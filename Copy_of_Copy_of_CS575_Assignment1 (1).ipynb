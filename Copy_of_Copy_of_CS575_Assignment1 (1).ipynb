{
  "nbformat": 4,
  "nbformat_minor": 0,
  "metadata": {
    "colab": {
      "name": "Copy of Copy of CS575_Assignment1.ipynb",
      "provenance": [],
      "collapsed_sections": [],
      "toc_visible": true
    },
    "kernelspec": {
      "name": "python3",
      "display_name": "Python 3"
    },
    "accelerator": "GPU"
  },
  "cells": [
    {
      "cell_type": "markdown",
      "metadata": {
        "id": "view-in-github"
      },
      "source": [
        "<a href=\"https://colab.research.google.com/github/cs575ts/Assignments/blob/main/Assignment_1/CS575_Assignment1.ipynb\" target=\"_parent\"><img src=\"https://colab.research.google.com/assets/colab-badge.svg\" alt=\"Open In Colab\"/></a>"
      ]
    },
    {
      "cell_type": "markdown",
      "metadata": {
        "id": "5UVv_bwue7JE"
      },
      "source": [
        "#Basic Descriptive Stats"
      ]
    },
    {
      "cell_type": "markdown",
      "metadata": {
        "id": "r1WSk4v2pabB"
      },
      "source": [
        "##Load Numpy, Pandas and other Libraries"
      ]
    },
    {
      "cell_type": "code",
      "metadata": {
        "id": "DJ12rA-8Yd4s"
      },
      "source": [
        "import pandas as pd\r\n",
        "import numpy as np\r\n",
        "import statistics"
      ],
      "execution_count": 72,
      "outputs": []
    },
    {
      "cell_type": "markdown",
      "metadata": {
        "id": "0E_fqWDcpk1S"
      },
      "source": [
        "### Load Dataset \"Inc_Exp_Data.csv\" using Pandas"
      ]
    },
    {
      "cell_type": "code",
      "metadata": {
        "id": "uHukN0A8Yxuo"
      },
      "source": [
        "df = pd.read_csv(\"Inc_Exp_Data.csv\")"
      ],
      "execution_count": 73,
      "outputs": []
    },
    {
      "cell_type": "markdown",
      "metadata": {
        "id": "HoDu-PR0BhfQ"
      },
      "source": [
        "### Defining my summation function to use all along the assignment"
      ]
    },
    {
      "cell_type": "code",
      "metadata": {
        "id": "rlISfOrqBrZN"
      },
      "source": [
        "def sums(num):\r\n",
        "    sum = 0\r\n",
        "    for i in num:\r\n",
        "        sum = sum + i\r\n",
        "    return sum"
      ],
      "execution_count": 75,
      "outputs": []
    },
    {
      "cell_type": "markdown",
      "metadata": {
        "id": "26a653XTpsrL"
      },
      "source": [
        "Analyze the data using pandas info() *function*"
      ]
    },
    {
      "cell_type": "code",
      "metadata": {
        "id": "HbA5rIO4qJSS",
        "colab": {
          "base_uri": "https://localhost:8080/"
        },
        "outputId": "1922187a-f106-4b45-e500-a5e24ac00a8c"
      },
      "source": [
        "df.info()"
      ],
      "execution_count": 76,
      "outputs": [
        {
          "output_type": "stream",
          "text": [
            "<class 'pandas.core.frame.DataFrame'>\n",
            "RangeIndex: 50 entries, 0 to 49\n",
            "Data columns (total 7 columns):\n",
            " #   Column                    Non-Null Count  Dtype \n",
            "---  ------                    --------------  ----- \n",
            " 0   Mthly_HH_Income           50 non-null     int64 \n",
            " 1   Mthly_HH_Expense          50 non-null     int64 \n",
            " 2   No_of_Fly_Members         50 non-null     int64 \n",
            " 3   Emi_or_Rent_Amt           50 non-null     int64 \n",
            " 4   Annual_HH_Income          50 non-null     int64 \n",
            " 5   Highest_Qualified_Member  50 non-null     object\n",
            " 6   No_of_Earning_Members     50 non-null     int64 \n",
            "dtypes: int64(6), object(1)\n",
            "memory usage: 2.9+ KB\n"
          ],
          "name": "stdout"
        }
      ]
    },
    {
      "cell_type": "markdown",
      "metadata": {
        "id": "0bfcP5Twp4Sr"
      },
      "source": [
        "Analyze the data using pandas describe() *function*"
      ]
    },
    {
      "cell_type": "code",
      "metadata": {
        "id": "wf08Cv0cqJ-K",
        "colab": {
          "base_uri": "https://localhost:8080/",
          "height": 286
        },
        "outputId": "fe750024-707f-45a9-a4dd-acb3bdc836bc"
      },
      "source": [
        "df.describe()"
      ],
      "execution_count": 77,
      "outputs": [
        {
          "output_type": "execute_result",
          "data": {
            "text/html": [
              "<div>\n",
              "<style scoped>\n",
              "    .dataframe tbody tr th:only-of-type {\n",
              "        vertical-align: middle;\n",
              "    }\n",
              "\n",
              "    .dataframe tbody tr th {\n",
              "        vertical-align: top;\n",
              "    }\n",
              "\n",
              "    .dataframe thead th {\n",
              "        text-align: right;\n",
              "    }\n",
              "</style>\n",
              "<table border=\"1\" class=\"dataframe\">\n",
              "  <thead>\n",
              "    <tr style=\"text-align: right;\">\n",
              "      <th></th>\n",
              "      <th>Mthly_HH_Income</th>\n",
              "      <th>Mthly_HH_Expense</th>\n",
              "      <th>No_of_Fly_Members</th>\n",
              "      <th>Emi_or_Rent_Amt</th>\n",
              "      <th>Annual_HH_Income</th>\n",
              "      <th>No_of_Earning_Members</th>\n",
              "    </tr>\n",
              "  </thead>\n",
              "  <tbody>\n",
              "    <tr>\n",
              "      <th>count</th>\n",
              "      <td>50.000000</td>\n",
              "      <td>50.000000</td>\n",
              "      <td>50.000000</td>\n",
              "      <td>50.000000</td>\n",
              "      <td>5.000000e+01</td>\n",
              "      <td>50.000000</td>\n",
              "    </tr>\n",
              "    <tr>\n",
              "      <th>mean</th>\n",
              "      <td>41558.000000</td>\n",
              "      <td>18818.000000</td>\n",
              "      <td>4.060000</td>\n",
              "      <td>3060.000000</td>\n",
              "      <td>4.900190e+05</td>\n",
              "      <td>1.460000</td>\n",
              "    </tr>\n",
              "    <tr>\n",
              "      <th>std</th>\n",
              "      <td>26097.908979</td>\n",
              "      <td>12090.216824</td>\n",
              "      <td>1.517382</td>\n",
              "      <td>6241.434948</td>\n",
              "      <td>3.201358e+05</td>\n",
              "      <td>0.734291</td>\n",
              "    </tr>\n",
              "    <tr>\n",
              "      <th>min</th>\n",
              "      <td>5000.000000</td>\n",
              "      <td>2000.000000</td>\n",
              "      <td>1.000000</td>\n",
              "      <td>0.000000</td>\n",
              "      <td>6.420000e+04</td>\n",
              "      <td>1.000000</td>\n",
              "    </tr>\n",
              "    <tr>\n",
              "      <th>25%</th>\n",
              "      <td>23550.000000</td>\n",
              "      <td>10000.000000</td>\n",
              "      <td>3.000000</td>\n",
              "      <td>0.000000</td>\n",
              "      <td>2.587500e+05</td>\n",
              "      <td>1.000000</td>\n",
              "    </tr>\n",
              "    <tr>\n",
              "      <th>50%</th>\n",
              "      <td>35000.000000</td>\n",
              "      <td>15500.000000</td>\n",
              "      <td>4.000000</td>\n",
              "      <td>0.000000</td>\n",
              "      <td>4.474200e+05</td>\n",
              "      <td>1.000000</td>\n",
              "    </tr>\n",
              "    <tr>\n",
              "      <th>75%</th>\n",
              "      <td>50375.000000</td>\n",
              "      <td>25000.000000</td>\n",
              "      <td>5.000000</td>\n",
              "      <td>3500.000000</td>\n",
              "      <td>5.947200e+05</td>\n",
              "      <td>2.000000</td>\n",
              "    </tr>\n",
              "    <tr>\n",
              "      <th>max</th>\n",
              "      <td>100000.000000</td>\n",
              "      <td>50000.000000</td>\n",
              "      <td>7.000000</td>\n",
              "      <td>35000.000000</td>\n",
              "      <td>1.404000e+06</td>\n",
              "      <td>4.000000</td>\n",
              "    </tr>\n",
              "  </tbody>\n",
              "</table>\n",
              "</div>"
            ],
            "text/plain": [
              "       Mthly_HH_Income  ...  No_of_Earning_Members\n",
              "count        50.000000  ...              50.000000\n",
              "mean      41558.000000  ...               1.460000\n",
              "std       26097.908979  ...               0.734291\n",
              "min        5000.000000  ...               1.000000\n",
              "25%       23550.000000  ...               1.000000\n",
              "50%       35000.000000  ...               1.000000\n",
              "75%       50375.000000  ...               2.000000\n",
              "max      100000.000000  ...               4.000000\n",
              "\n",
              "[8 rows x 6 columns]"
            ]
          },
          "metadata": {
            "tags": []
          },
          "execution_count": 77
        }
      ]
    },
    {
      "cell_type": "markdown",
      "metadata": {
        "id": "Gy_Q1psDp3K0"
      },
      "source": [
        "Analyze the data using pandas shape object"
      ]
    },
    {
      "cell_type": "code",
      "metadata": {
        "id": "lskKTYblqKUC",
        "colab": {
          "base_uri": "https://localhost:8080/"
        },
        "outputId": "cf0c205d-aa5d-46c9-80d4-08cc394fa6ea"
      },
      "source": [
        "df.shape"
      ],
      "execution_count": 78,
      "outputs": [
        {
          "output_type": "execute_result",
          "data": {
            "text/plain": [
              "(50, 7)"
            ]
          },
          "metadata": {
            "tags": []
          },
          "execution_count": 78
        }
      ]
    },
    {
      "cell_type": "markdown",
      "metadata": {
        "id": "bTQjekrUp9LW"
      },
      "source": [
        "Check for missing values"
      ]
    },
    {
      "cell_type": "code",
      "metadata": {
        "id": "e9FUUTH7qKtq",
        "colab": {
          "base_uri": "https://localhost:8080/"
        },
        "outputId": "b18c17d8-454f-42ec-e537-c0a857253f5b"
      },
      "source": [
        "print(df.isnull().sum())\r\n",
        "print(\"_______________\")\r\n",
        "print(\"No missing values in the data set\")"
      ],
      "execution_count": 84,
      "outputs": [
        {
          "output_type": "stream",
          "text": [
            "Mthly_HH_Income             0\n",
            "Mthly_HH_Expense            0\n",
            "No_of_Fly_Members           0\n",
            "Emi_or_Rent_Amt             0\n",
            "Annual_HH_Income            0\n",
            "Highest_Qualified_Member    0\n",
            "No_of_Earning_Members       0\n",
            "dtype: int64\n",
            "_______________\n",
            "No missing values in the data set\n"
          ],
          "name": "stdout"
        }
      ]
    },
    {
      "cell_type": "markdown",
      "metadata": {
        "id": "YVcDQV2_fofG"
      },
      "source": [
        ""
      ]
    },
    {
      "cell_type": "markdown",
      "metadata": {
        "id": "VSfKC-bgqLFC"
      },
      "source": [
        "What is the Mean Expense of a Household? Compute mean using Inbuilt pandas function and write your own function for the same."
      ]
    },
    {
      "cell_type": "code",
      "metadata": {
        "id": "DCRfeoKZqMzP",
        "colab": {
          "base_uri": "https://localhost:8080/",
          "height": 1000
        },
        "outputId": "9f149674-b7b7-422c-eb97-f07cb159ef5d"
      },
      "source": [
        "#Checking dataset\r\n",
        "df"
      ],
      "execution_count": 86,
      "outputs": [
        {
          "output_type": "execute_result",
          "data": {
            "text/html": [
              "<div>\n",
              "<style scoped>\n",
              "    .dataframe tbody tr th:only-of-type {\n",
              "        vertical-align: middle;\n",
              "    }\n",
              "\n",
              "    .dataframe tbody tr th {\n",
              "        vertical-align: top;\n",
              "    }\n",
              "\n",
              "    .dataframe thead th {\n",
              "        text-align: right;\n",
              "    }\n",
              "</style>\n",
              "<table border=\"1\" class=\"dataframe\">\n",
              "  <thead>\n",
              "    <tr style=\"text-align: right;\">\n",
              "      <th></th>\n",
              "      <th>Mthly_HH_Income</th>\n",
              "      <th>Mthly_HH_Expense</th>\n",
              "      <th>No_of_Fly_Members</th>\n",
              "      <th>Emi_or_Rent_Amt</th>\n",
              "      <th>Annual_HH_Income</th>\n",
              "      <th>Highest_Qualified_Member</th>\n",
              "      <th>No_of_Earning_Members</th>\n",
              "    </tr>\n",
              "  </thead>\n",
              "  <tbody>\n",
              "    <tr>\n",
              "      <th>0</th>\n",
              "      <td>5000</td>\n",
              "      <td>8000</td>\n",
              "      <td>3</td>\n",
              "      <td>2000</td>\n",
              "      <td>64200</td>\n",
              "      <td>Under-Graduate</td>\n",
              "      <td>1</td>\n",
              "    </tr>\n",
              "    <tr>\n",
              "      <th>1</th>\n",
              "      <td>6000</td>\n",
              "      <td>7000</td>\n",
              "      <td>2</td>\n",
              "      <td>3000</td>\n",
              "      <td>79920</td>\n",
              "      <td>Illiterate</td>\n",
              "      <td>1</td>\n",
              "    </tr>\n",
              "    <tr>\n",
              "      <th>2</th>\n",
              "      <td>10000</td>\n",
              "      <td>4500</td>\n",
              "      <td>2</td>\n",
              "      <td>0</td>\n",
              "      <td>112800</td>\n",
              "      <td>Under-Graduate</td>\n",
              "      <td>1</td>\n",
              "    </tr>\n",
              "    <tr>\n",
              "      <th>3</th>\n",
              "      <td>10000</td>\n",
              "      <td>2000</td>\n",
              "      <td>1</td>\n",
              "      <td>0</td>\n",
              "      <td>97200</td>\n",
              "      <td>Illiterate</td>\n",
              "      <td>1</td>\n",
              "    </tr>\n",
              "    <tr>\n",
              "      <th>4</th>\n",
              "      <td>12500</td>\n",
              "      <td>12000</td>\n",
              "      <td>2</td>\n",
              "      <td>3000</td>\n",
              "      <td>147000</td>\n",
              "      <td>Graduate</td>\n",
              "      <td>1</td>\n",
              "    </tr>\n",
              "    <tr>\n",
              "      <th>5</th>\n",
              "      <td>14000</td>\n",
              "      <td>8000</td>\n",
              "      <td>2</td>\n",
              "      <td>0</td>\n",
              "      <td>196560</td>\n",
              "      <td>Graduate</td>\n",
              "      <td>1</td>\n",
              "    </tr>\n",
              "    <tr>\n",
              "      <th>6</th>\n",
              "      <td>15000</td>\n",
              "      <td>16000</td>\n",
              "      <td>3</td>\n",
              "      <td>35000</td>\n",
              "      <td>167400</td>\n",
              "      <td>Post-Graduate</td>\n",
              "      <td>1</td>\n",
              "    </tr>\n",
              "    <tr>\n",
              "      <th>7</th>\n",
              "      <td>18000</td>\n",
              "      <td>20000</td>\n",
              "      <td>5</td>\n",
              "      <td>8000</td>\n",
              "      <td>216000</td>\n",
              "      <td>Graduate</td>\n",
              "      <td>1</td>\n",
              "    </tr>\n",
              "    <tr>\n",
              "      <th>8</th>\n",
              "      <td>19000</td>\n",
              "      <td>9000</td>\n",
              "      <td>2</td>\n",
              "      <td>0</td>\n",
              "      <td>218880</td>\n",
              "      <td>Under-Graduate</td>\n",
              "      <td>1</td>\n",
              "    </tr>\n",
              "    <tr>\n",
              "      <th>9</th>\n",
              "      <td>20000</td>\n",
              "      <td>9000</td>\n",
              "      <td>4</td>\n",
              "      <td>0</td>\n",
              "      <td>220800</td>\n",
              "      <td>Under-Graduate</td>\n",
              "      <td>2</td>\n",
              "    </tr>\n",
              "    <tr>\n",
              "      <th>10</th>\n",
              "      <td>20000</td>\n",
              "      <td>18000</td>\n",
              "      <td>4</td>\n",
              "      <td>8000</td>\n",
              "      <td>278400</td>\n",
              "      <td>Under-Graduate</td>\n",
              "      <td>2</td>\n",
              "    </tr>\n",
              "    <tr>\n",
              "      <th>11</th>\n",
              "      <td>22000</td>\n",
              "      <td>25000</td>\n",
              "      <td>6</td>\n",
              "      <td>12000</td>\n",
              "      <td>279840</td>\n",
              "      <td>Illiterate</td>\n",
              "      <td>1</td>\n",
              "    </tr>\n",
              "    <tr>\n",
              "      <th>12</th>\n",
              "      <td>23400</td>\n",
              "      <td>5000</td>\n",
              "      <td>3</td>\n",
              "      <td>0</td>\n",
              "      <td>292032</td>\n",
              "      <td>Illiterate</td>\n",
              "      <td>1</td>\n",
              "    </tr>\n",
              "    <tr>\n",
              "      <th>13</th>\n",
              "      <td>24000</td>\n",
              "      <td>10500</td>\n",
              "      <td>6</td>\n",
              "      <td>0</td>\n",
              "      <td>316800</td>\n",
              "      <td>Graduate</td>\n",
              "      <td>2</td>\n",
              "    </tr>\n",
              "    <tr>\n",
              "      <th>14</th>\n",
              "      <td>24000</td>\n",
              "      <td>10000</td>\n",
              "      <td>4</td>\n",
              "      <td>0</td>\n",
              "      <td>244800</td>\n",
              "      <td>Graduate</td>\n",
              "      <td>2</td>\n",
              "    </tr>\n",
              "    <tr>\n",
              "      <th>15</th>\n",
              "      <td>25000</td>\n",
              "      <td>12300</td>\n",
              "      <td>3</td>\n",
              "      <td>0</td>\n",
              "      <td>246000</td>\n",
              "      <td>Graduate</td>\n",
              "      <td>1</td>\n",
              "    </tr>\n",
              "    <tr>\n",
              "      <th>16</th>\n",
              "      <td>25000</td>\n",
              "      <td>20000</td>\n",
              "      <td>3</td>\n",
              "      <td>3500</td>\n",
              "      <td>261000</td>\n",
              "      <td>Graduate</td>\n",
              "      <td>1</td>\n",
              "    </tr>\n",
              "    <tr>\n",
              "      <th>17</th>\n",
              "      <td>25000</td>\n",
              "      <td>10000</td>\n",
              "      <td>6</td>\n",
              "      <td>0</td>\n",
              "      <td>258000</td>\n",
              "      <td>Under-Graduate</td>\n",
              "      <td>3</td>\n",
              "    </tr>\n",
              "    <tr>\n",
              "      <th>18</th>\n",
              "      <td>29000</td>\n",
              "      <td>6600</td>\n",
              "      <td>2</td>\n",
              "      <td>2000</td>\n",
              "      <td>348000</td>\n",
              "      <td>Graduate</td>\n",
              "      <td>1</td>\n",
              "    </tr>\n",
              "    <tr>\n",
              "      <th>19</th>\n",
              "      <td>30000</td>\n",
              "      <td>13000</td>\n",
              "      <td>4</td>\n",
              "      <td>0</td>\n",
              "      <td>385200</td>\n",
              "      <td>Graduate</td>\n",
              "      <td>1</td>\n",
              "    </tr>\n",
              "    <tr>\n",
              "      <th>20</th>\n",
              "      <td>30500</td>\n",
              "      <td>25000</td>\n",
              "      <td>5</td>\n",
              "      <td>5000</td>\n",
              "      <td>351360</td>\n",
              "      <td>Under-Graduate</td>\n",
              "      <td>1</td>\n",
              "    </tr>\n",
              "    <tr>\n",
              "      <th>21</th>\n",
              "      <td>32000</td>\n",
              "      <td>15000</td>\n",
              "      <td>4</td>\n",
              "      <td>0</td>\n",
              "      <td>445440</td>\n",
              "      <td>Professional</td>\n",
              "      <td>1</td>\n",
              "    </tr>\n",
              "    <tr>\n",
              "      <th>22</th>\n",
              "      <td>34000</td>\n",
              "      <td>19000</td>\n",
              "      <td>6</td>\n",
              "      <td>0</td>\n",
              "      <td>330480</td>\n",
              "      <td>Professional</td>\n",
              "      <td>1</td>\n",
              "    </tr>\n",
              "    <tr>\n",
              "      <th>23</th>\n",
              "      <td>34000</td>\n",
              "      <td>25000</td>\n",
              "      <td>3</td>\n",
              "      <td>4000</td>\n",
              "      <td>469200</td>\n",
              "      <td>Professional</td>\n",
              "      <td>1</td>\n",
              "    </tr>\n",
              "    <tr>\n",
              "      <th>24</th>\n",
              "      <td>35000</td>\n",
              "      <td>12000</td>\n",
              "      <td>3</td>\n",
              "      <td>0</td>\n",
              "      <td>466200</td>\n",
              "      <td>Graduate</td>\n",
              "      <td>1</td>\n",
              "    </tr>\n",
              "    <tr>\n",
              "      <th>25</th>\n",
              "      <td>35000</td>\n",
              "      <td>25000</td>\n",
              "      <td>4</td>\n",
              "      <td>0</td>\n",
              "      <td>449400</td>\n",
              "      <td>Professional</td>\n",
              "      <td>2</td>\n",
              "    </tr>\n",
              "    <tr>\n",
              "      <th>26</th>\n",
              "      <td>39000</td>\n",
              "      <td>8000</td>\n",
              "      <td>4</td>\n",
              "      <td>0</td>\n",
              "      <td>556920</td>\n",
              "      <td>Under-Graduate</td>\n",
              "      <td>1</td>\n",
              "    </tr>\n",
              "    <tr>\n",
              "      <th>27</th>\n",
              "      <td>40000</td>\n",
              "      <td>10000</td>\n",
              "      <td>4</td>\n",
              "      <td>0</td>\n",
              "      <td>412800</td>\n",
              "      <td>Under-Graduate</td>\n",
              "      <td>1</td>\n",
              "    </tr>\n",
              "    <tr>\n",
              "      <th>28</th>\n",
              "      <td>42000</td>\n",
              "      <td>15000</td>\n",
              "      <td>4</td>\n",
              "      <td>0</td>\n",
              "      <td>488880</td>\n",
              "      <td>Graduate</td>\n",
              "      <td>1</td>\n",
              "    </tr>\n",
              "    <tr>\n",
              "      <th>29</th>\n",
              "      <td>43000</td>\n",
              "      <td>12000</td>\n",
              "      <td>4</td>\n",
              "      <td>0</td>\n",
              "      <td>619200</td>\n",
              "      <td>Graduate</td>\n",
              "      <td>1</td>\n",
              "    </tr>\n",
              "    <tr>\n",
              "      <th>30</th>\n",
              "      <td>45000</td>\n",
              "      <td>25000</td>\n",
              "      <td>6</td>\n",
              "      <td>0</td>\n",
              "      <td>523800</td>\n",
              "      <td>Graduate</td>\n",
              "      <td>3</td>\n",
              "    </tr>\n",
              "    <tr>\n",
              "      <th>31</th>\n",
              "      <td>45000</td>\n",
              "      <td>40000</td>\n",
              "      <td>6</td>\n",
              "      <td>3500</td>\n",
              "      <td>507600</td>\n",
              "      <td>Professional</td>\n",
              "      <td>2</td>\n",
              "    </tr>\n",
              "    <tr>\n",
              "      <th>32</th>\n",
              "      <td>45000</td>\n",
              "      <td>10000</td>\n",
              "      <td>2</td>\n",
              "      <td>1000</td>\n",
              "      <td>437400</td>\n",
              "      <td>Post-Graduate</td>\n",
              "      <td>1</td>\n",
              "    </tr>\n",
              "    <tr>\n",
              "      <th>33</th>\n",
              "      <td>45000</td>\n",
              "      <td>22000</td>\n",
              "      <td>4</td>\n",
              "      <td>2500</td>\n",
              "      <td>610200</td>\n",
              "      <td>Post-Graduate</td>\n",
              "      <td>1</td>\n",
              "    </tr>\n",
              "    <tr>\n",
              "      <th>34</th>\n",
              "      <td>46000</td>\n",
              "      <td>25000</td>\n",
              "      <td>5</td>\n",
              "      <td>3500</td>\n",
              "      <td>596160</td>\n",
              "      <td>Graduate</td>\n",
              "      <td>1</td>\n",
              "    </tr>\n",
              "    <tr>\n",
              "      <th>35</th>\n",
              "      <td>47000</td>\n",
              "      <td>15000</td>\n",
              "      <td>7</td>\n",
              "      <td>0</td>\n",
              "      <td>456840</td>\n",
              "      <td>Professional</td>\n",
              "      <td>4</td>\n",
              "    </tr>\n",
              "    <tr>\n",
              "      <th>36</th>\n",
              "      <td>50000</td>\n",
              "      <td>20000</td>\n",
              "      <td>4</td>\n",
              "      <td>0</td>\n",
              "      <td>570000</td>\n",
              "      <td>Professional</td>\n",
              "      <td>1</td>\n",
              "    </tr>\n",
              "    <tr>\n",
              "      <th>37</th>\n",
              "      <td>50500</td>\n",
              "      <td>20000</td>\n",
              "      <td>3</td>\n",
              "      <td>0</td>\n",
              "      <td>581760</td>\n",
              "      <td>Professional</td>\n",
              "      <td>2</td>\n",
              "    </tr>\n",
              "    <tr>\n",
              "      <th>38</th>\n",
              "      <td>55000</td>\n",
              "      <td>45000</td>\n",
              "      <td>6</td>\n",
              "      <td>12000</td>\n",
              "      <td>600600</td>\n",
              "      <td>Graduate</td>\n",
              "      <td>2</td>\n",
              "    </tr>\n",
              "    <tr>\n",
              "      <th>39</th>\n",
              "      <td>60000</td>\n",
              "      <td>10000</td>\n",
              "      <td>3</td>\n",
              "      <td>0</td>\n",
              "      <td>590400</td>\n",
              "      <td>Post-Graduate</td>\n",
              "      <td>1</td>\n",
              "    </tr>\n",
              "    <tr>\n",
              "      <th>40</th>\n",
              "      <td>60000</td>\n",
              "      <td>50000</td>\n",
              "      <td>6</td>\n",
              "      <td>10000</td>\n",
              "      <td>590400</td>\n",
              "      <td>Graduate</td>\n",
              "      <td>1</td>\n",
              "    </tr>\n",
              "    <tr>\n",
              "      <th>41</th>\n",
              "      <td>65000</td>\n",
              "      <td>20000</td>\n",
              "      <td>4</td>\n",
              "      <td>5000</td>\n",
              "      <td>647400</td>\n",
              "      <td>Illiterate</td>\n",
              "      <td>2</td>\n",
              "    </tr>\n",
              "    <tr>\n",
              "      <th>42</th>\n",
              "      <td>70000</td>\n",
              "      <td>9000</td>\n",
              "      <td>2</td>\n",
              "      <td>0</td>\n",
              "      <td>756000</td>\n",
              "      <td>Graduate</td>\n",
              "      <td>1</td>\n",
              "    </tr>\n",
              "    <tr>\n",
              "      <th>43</th>\n",
              "      <td>80000</td>\n",
              "      <td>20000</td>\n",
              "      <td>4</td>\n",
              "      <td>0</td>\n",
              "      <td>1075200</td>\n",
              "      <td>Graduate</td>\n",
              "      <td>1</td>\n",
              "    </tr>\n",
              "    <tr>\n",
              "      <th>44</th>\n",
              "      <td>85000</td>\n",
              "      <td>25000</td>\n",
              "      <td>5</td>\n",
              "      <td>0</td>\n",
              "      <td>1142400</td>\n",
              "      <td>Under-Graduate</td>\n",
              "      <td>2</td>\n",
              "    </tr>\n",
              "    <tr>\n",
              "      <th>45</th>\n",
              "      <td>90000</td>\n",
              "      <td>48000</td>\n",
              "      <td>7</td>\n",
              "      <td>0</td>\n",
              "      <td>885600</td>\n",
              "      <td>Post-Graduate</td>\n",
              "      <td>3</td>\n",
              "    </tr>\n",
              "    <tr>\n",
              "      <th>46</th>\n",
              "      <td>98000</td>\n",
              "      <td>25000</td>\n",
              "      <td>5</td>\n",
              "      <td>0</td>\n",
              "      <td>1152480</td>\n",
              "      <td>Professional</td>\n",
              "      <td>2</td>\n",
              "    </tr>\n",
              "    <tr>\n",
              "      <th>47</th>\n",
              "      <td>100000</td>\n",
              "      <td>30000</td>\n",
              "      <td>6</td>\n",
              "      <td>0</td>\n",
              "      <td>1404000</td>\n",
              "      <td>Graduate</td>\n",
              "      <td>3</td>\n",
              "    </tr>\n",
              "    <tr>\n",
              "      <th>48</th>\n",
              "      <td>100000</td>\n",
              "      <td>50000</td>\n",
              "      <td>4</td>\n",
              "      <td>20000</td>\n",
              "      <td>1032000</td>\n",
              "      <td>Professional</td>\n",
              "      <td>2</td>\n",
              "    </tr>\n",
              "    <tr>\n",
              "      <th>49</th>\n",
              "      <td>100000</td>\n",
              "      <td>40000</td>\n",
              "      <td>6</td>\n",
              "      <td>10000</td>\n",
              "      <td>1320000</td>\n",
              "      <td>Post-Graduate</td>\n",
              "      <td>1</td>\n",
              "    </tr>\n",
              "  </tbody>\n",
              "</table>\n",
              "</div>"
            ],
            "text/plain": [
              "    Mthly_HH_Income  ...  No_of_Earning_Members\n",
              "0              5000  ...                      1\n",
              "1              6000  ...                      1\n",
              "2             10000  ...                      1\n",
              "3             10000  ...                      1\n",
              "4             12500  ...                      1\n",
              "5             14000  ...                      1\n",
              "6             15000  ...                      1\n",
              "7             18000  ...                      1\n",
              "8             19000  ...                      1\n",
              "9             20000  ...                      2\n",
              "10            20000  ...                      2\n",
              "11            22000  ...                      1\n",
              "12            23400  ...                      1\n",
              "13            24000  ...                      2\n",
              "14            24000  ...                      2\n",
              "15            25000  ...                      1\n",
              "16            25000  ...                      1\n",
              "17            25000  ...                      3\n",
              "18            29000  ...                      1\n",
              "19            30000  ...                      1\n",
              "20            30500  ...                      1\n",
              "21            32000  ...                      1\n",
              "22            34000  ...                      1\n",
              "23            34000  ...                      1\n",
              "24            35000  ...                      1\n",
              "25            35000  ...                      2\n",
              "26            39000  ...                      1\n",
              "27            40000  ...                      1\n",
              "28            42000  ...                      1\n",
              "29            43000  ...                      1\n",
              "30            45000  ...                      3\n",
              "31            45000  ...                      2\n",
              "32            45000  ...                      1\n",
              "33            45000  ...                      1\n",
              "34            46000  ...                      1\n",
              "35            47000  ...                      4\n",
              "36            50000  ...                      1\n",
              "37            50500  ...                      2\n",
              "38            55000  ...                      2\n",
              "39            60000  ...                      1\n",
              "40            60000  ...                      1\n",
              "41            65000  ...                      2\n",
              "42            70000  ...                      1\n",
              "43            80000  ...                      1\n",
              "44            85000  ...                      2\n",
              "45            90000  ...                      3\n",
              "46            98000  ...                      2\n",
              "47           100000  ...                      3\n",
              "48           100000  ...                      2\n",
              "49           100000  ...                      1\n",
              "\n",
              "[50 rows x 7 columns]"
            ]
          },
          "metadata": {
            "tags": []
          },
          "execution_count": 86
        }
      ]
    },
    {
      "cell_type": "code",
      "metadata": {
        "id": "QFTGAz5mcZdi"
      },
      "source": [
        "expence = df.iloc[:,1]\r\n",
        "def my_mean(num):\r\n",
        "    sum = 0\r\n",
        "    for i in num:\r\n",
        "        sum = sum + i\r\n",
        "\r\n",
        "    mean = sum / len(num)\r\n",
        "    return mean"
      ],
      "execution_count": 87,
      "outputs": []
    },
    {
      "cell_type": "code",
      "metadata": {
        "colab": {
          "base_uri": "https://localhost:8080/"
        },
        "id": "hpaVZZN6gWZt",
        "outputId": "97f1195a-215e-40de-be7e-ee297aa8d655"
      },
      "source": [
        "print(\"Mean Expense of a Household using my own function:\")\r\n",
        "print(my_mean(expence))\r\n",
        "print(\"Mean Expense of a Household using inbuilt function:\")\r\n",
        "print(df.iloc[:,[1]].mean(axis = 0))"
      ],
      "execution_count": 91,
      "outputs": [
        {
          "output_type": "stream",
          "text": [
            "Mean Expense of a Household using my own function\n",
            "18818.0\n",
            "Mean Expense of a Household using inbuilt function\n",
            "Mthly_HH_Expense    18818.0\n",
            "dtype: float64\n"
          ],
          "name": "stdout"
        }
      ]
    },
    {
      "cell_type": "markdown",
      "metadata": {
        "id": "f9YrCDbZqNH6"
      },
      "source": [
        "What is the Median Household Expense? Compute Median using Inbuilt pandas function and write your own function for the same."
      ]
    },
    {
      "cell_type": "code",
      "metadata": {
        "id": "wYWaDFM2qPxq"
      },
      "source": [
        "assend_expence = sorted(expence)"
      ],
      "execution_count": 93,
      "outputs": []
    },
    {
      "cell_type": "code",
      "metadata": {
        "id": "d_WpAr_dolRP"
      },
      "source": [
        "def my_median(m):\r\n",
        "  if len(m)%2!=0:\r\n",
        "    m1 = assend_expence[int((len(m+1)/2)-1)]\r\n",
        "  else:\r\n",
        "    m1 = (assend_expence[int((len(m)/2)-1)] + assend_expence[int((len(m)/2))])/2 \r\n",
        "  return m1"
      ],
      "execution_count": 16,
      "outputs": []
    },
    {
      "cell_type": "code",
      "metadata": {
        "colab": {
          "base_uri": "https://localhost:8080/"
        },
        "id": "VtZwRbm7ukUf",
        "outputId": "b6e6f615-2a90-4f18-b433-7515cd6e2b30"
      },
      "source": [
        "print(\"Median Household Expense using my own function:\")\r\n",
        "print(my_median(assend_expence))\r\n",
        "print(\"Median Household Expense using inbuilt function:\")\r\n",
        "print(statistics.median(assend_expence))"
      ],
      "execution_count": 94,
      "outputs": [
        {
          "output_type": "stream",
          "text": [
            "Median Household Expense using my own function:\n",
            "15500.0\n",
            "None\n",
            "Median Household Expense using inbuilt function:\n",
            "15500.0\n"
          ],
          "name": "stdout"
        }
      ]
    },
    {
      "cell_type": "markdown",
      "metadata": {
        "id": "jD4gKP8IqRFT"
      },
      "source": [
        "What is the Monthly Expense for most of the Households?\r\n"
      ]
    },
    {
      "cell_type": "code",
      "metadata": {
        "id": "OrUkGIVlqUJb",
        "colab": {
          "base_uri": "https://localhost:8080/"
        },
        "outputId": "03134044-5f74-42dd-9c4f-d99cf4a810d8"
      },
      "source": [
        "import statistics\r\n",
        "print(\"Monthly Expense for most of the Households are :\")\r\n",
        "print(statistics.mode(expence))"
      ],
      "execution_count": 97,
      "outputs": [
        {
          "output_type": "stream",
          "text": [
            "Monthly Expense for most of the Households are :\n",
            "25000\n"
          ],
          "name": "stdout"
        }
      ]
    },
    {
      "cell_type": "markdown",
      "metadata": {
        "id": "CZtVOZxJqXzz"
      },
      "source": [
        "Calculate IQR(difference between 75% and 25% quartile)"
      ]
    },
    {
      "cell_type": "code",
      "metadata": {
        "id": "sxPVuHYrqX8s",
        "colab": {
          "base_uri": "https://localhost:8080/"
        },
        "outputId": "85c0d7a9-d6f1-4aa6-ae7a-9b935ace9553"
      },
      "source": [
        "from scipy import stats\r\n",
        "print(\"IQR for colum 1 is: \" + str(stats.iqr(column_1, interpolation = 'midpoint')))\r\n",
        "print(\"IQR for colum 2 is: \" + str(stats.iqr(column_2, interpolation = 'midpoint')))\r\n",
        "print(\"IQR for colum 3 is: \" + str(stats.iqr(column_3, interpolation = 'midpoint')))\r\n",
        "print(\"IQR for colum 4 is: \" + str(stats.iqr(column_4, interpolation = 'midpoint')))\r\n",
        "print(\"IQR for colum 5 is: \" + str(stats.iqr(column_5, interpolation = 'midpoint')))\r\n",
        "print(\"IQR for colum 7 is: \" + str(stats.iqr(column_7, interpolation = 'midpoint')))"
      ],
      "execution_count": 161,
      "outputs": [
        {
          "output_type": "stream",
          "text": [
            "IQR for colum 1 is: 26550.0\n",
            "IQR for colum 2 is: 15000.0\n",
            "IQR for colum 3 is: 2.0\n",
            "IQR for colum 4 is: 3500.0\n",
            "IQR for colum 5 is: 333780.0\n",
            "IQR for colum 7 is: 1.0\n"
          ],
          "name": "stdout"
        }
      ]
    },
    {
      "cell_type": "markdown",
      "metadata": {
        "id": "jElORm3tqblT"
      },
      "source": [
        "Calculate Standard Deviation for first 4 columns. Compute Standard Deviation using Inbuilt pandas function and write your own function for the same."
      ]
    },
    {
      "cell_type": "code",
      "metadata": {
        "id": "ZYA56UIHqbsD"
      },
      "source": [
        "import math\r\n",
        "column_1=df.iloc[:,0]\r\n",
        "column_2=df.iloc[:,1]\r\n",
        "column_3=df.iloc[:,2]\r\n",
        "column_4=df.iloc[:,3]\r\n",
        "column_5=df.iloc[:,4]\r\n",
        "column_7=df.iloc[:,6]"
      ],
      "execution_count": 102,
      "outputs": []
    },
    {
      "cell_type": "code",
      "metadata": {
        "id": "a_JUoZyYR6in"
      },
      "source": [
        "def my_std_dev(column_name):\r\n",
        "  sd = 0\r\n",
        "  n = len(column_name)\r\n",
        "  mean = float(sums(column_name)/n)\r\n",
        "  for i in column_name:\r\n",
        "    sd += (float(i) - mean)**2\r\n",
        "  sd = math.sqrt(sd / float(n-1))\r\n",
        "  return sd"
      ],
      "execution_count": 103,
      "outputs": []
    },
    {
      "cell_type": "code",
      "metadata": {
        "colab": {
          "base_uri": "https://localhost:8080/"
        },
        "id": "pM8ih7xZTbGs",
        "outputId": "c0ad3709-3756-40e7-d7f5-9e12c398734b"
      },
      "source": [
        "print(\"Standard Deviation for first 4 columns using my own function respectievly are:\")\r\n",
        "print(\"Column 1:   \" + str(my_std_dev(column_1)))\r\n",
        "print(\"Column 2:   \" + str(my_std_dev(column_2)))\r\n",
        "print(\"Column 3:   \" + str(my_std_dev(column_3)))\r\n",
        "print(\"Column 4:   \" + str(my_std_dev(column_4)))\r\n",
        "print(\"______________________________________\")\r\n",
        "print(\"Standard Deviation for first 4 columns using inbuilt function respectievly are:\")\r\n",
        "print(\"Column 1:   \" + str(column_1.std()))\r\n",
        "print(\"Column 2:   \" + str(column_2.std()))\r\n",
        "print(\"Column 3:   \" + str(column_3.std()))\r\n",
        "print(\"Column 4:   \" + str(column_4.std()))"
      ],
      "execution_count": 123,
      "outputs": [
        {
          "output_type": "stream",
          "text": [
            "Standard Deviation for first 4 columns using my own function respectievly are:\n",
            "Column 1:   26097.908978713687\n",
            "Column 2:   12090.216824240286\n",
            "Column 3:   1.5173822786601394\n",
            "Column 4:   6241.434947516607\n",
            "______________________________________\n",
            "Standard Deviation for first 4 columns using inbuilt function respectievly are:\n",
            "Column 1:   26097.908978713687\n",
            "Column 2:   12090.216824240286\n",
            "Column 3:   1.5173822786601394\n",
            "Column 4:   6241.434947516607\n"
          ],
          "name": "stdout"
        }
      ]
    },
    {
      "cell_type": "markdown",
      "metadata": {
        "id": "UHL1TLkPqfNX"
      },
      "source": [
        "Calculate Variance for first 3 columns. Compute Variance using Inbuilt pandas \r\n",
        "function and write your own function for the same."
      ]
    },
    {
      "cell_type": "code",
      "metadata": {
        "id": "W30ohdg-tyAZ"
      },
      "source": [
        "def my_var(column_name):\r\n",
        "  var = 0\r\n",
        "  n = len(column_name)\r\n",
        "  mean = float(sums(column_name)/n)\r\n",
        "  for i in column_name:\r\n",
        "    var += (float(i) - mean)**2\r\n",
        "  var = (var / float(n-1))\r\n",
        "  return var"
      ],
      "execution_count": 124,
      "outputs": []
    },
    {
      "cell_type": "code",
      "metadata": {
        "colab": {
          "base_uri": "https://localhost:8080/"
        },
        "id": "cQAwMNh2Z0Ls",
        "outputId": "37e90ea0-a840-4788-d0e7-7edecca2b996"
      },
      "source": [
        "print(\"Variance for first 3 columns using my own function respectievly are:\")\r\n",
        "print(\"Column 1:   \" + str(my_var(column_1)))\r\n",
        "print(\"Column 2:   \" + str(my_var(column_2)))\r\n",
        "print(\"Column 3:   \" + str(my_var(column_3)))\r\n",
        "print(\"______________________________________\")\r\n",
        "print(\"Variance for first 3 columns using inbuilt function respectievly are:\")\r\n",
        "print(\"Column 1:   \" + str(column_1.var()))\r\n",
        "print(\"Column 2:   \" + str(column_2.var()))\r\n",
        "print(\"Column 3:   \" + str(column_3.var()))"
      ],
      "execution_count": 127,
      "outputs": [
        {
          "output_type": "stream",
          "text": [
            "Variance for first 3 columns using my own function respectievly are:\n",
            "Column 1:   681100853.0612245\n",
            "Column 2:   146173342.85714287\n",
            "Column 3:   2.302448979591837\n",
            "______________________________________\n",
            "Variance for first 3 columns using inbuilt function respectievly are:\n",
            "Column 1:   681100853.0612245\n",
            "Column 2:   146173342.85714287\n",
            "Column 3:   2.302448979591837\n"
          ],
          "name": "stdout"
        }
      ]
    },
    {
      "cell_type": "markdown",
      "metadata": {
        "id": "ASY9WWAAuIx-"
      },
      "source": [
        "Calculate Skewness for first 3 columns. Compute Skewness using Inbuilt pandas function and write your own function for the same.\r\n"
      ]
    },
    {
      "cell_type": "code",
      "metadata": {
        "id": "Sl4uw-jouI88"
      },
      "source": [
        "def my_skewns(column_name):\r\n",
        "  s1=0\r\n",
        "  sd=0\r\n",
        "  n = len(column_name)\r\n",
        "  mean = float(sums(column_name)/n)\r\n",
        "  for i in column_name:\r\n",
        "    s1+= (float(i) - mean)**3\r\n",
        "  for j in column_name:\r\n",
        "    sd += (float(j) - mean)**2\r\n",
        "  std = math.sqrt(sd / float(n))\r\n",
        "  skews = s1/((n-1)*(std**3))\r\n",
        "  return skews"
      ],
      "execution_count": 26,
      "outputs": []
    },
    {
      "cell_type": "code",
      "metadata": {
        "colab": {
          "base_uri": "https://localhost:8080/"
        },
        "id": "apATXWyw0u4Y",
        "outputId": "e8b278a6-8ba2-43d6-9a6b-6a6307dbafed"
      },
      "source": [
        "print(\"Skewness for first 3 columns using my own function respectievly are:\")\r\n",
        "print(\"Column 1:   \" + str(my_skewns(column_1)))\r\n",
        "print(\"Column 2:   \" + str(my_skewns(column_2)))\r\n",
        "print(\"Column 3:   \" + str(my_skewns(column_3)))\r\n",
        "print(\"______________________________________\")\r\n",
        "print(\"Skewness for first 3 columns using inbuilt function respectievly are:\")\r\n",
        "print(\"Column 1:   \" + str(column_1.skew()))\r\n",
        "print(\"Column 2:   \" + str(column_2.skew()))\r\n",
        "print(\"Column 3:   \" + str(column_3.skew()))"
      ],
      "execution_count": 128,
      "outputs": [
        {
          "output_type": "stream",
          "text": [
            "Skewness for first 3 columns using my own function respectievly are:\n",
            "Column 1:   0.9149408033669727\n",
            "Column 2:   1.1869110683274116\n",
            "Column 3:   0.11248480307967186\n",
            "______________________________________\n",
            "Skewness for first 3 columns using inbuilt function respectievly are:\n",
            "Column 1:   0.9246148763777229\n",
            "Column 2:   1.1994608030097127\n",
            "Column 3:   0.11367415455857431\n"
          ],
          "name": "stdout"
        }
      ]
    },
    {
      "cell_type": "markdown",
      "metadata": {
        "id": "bHm8S-umuKV9"
      },
      "source": [
        "Calculate Kurtosis for first 3 columns. Compute Kurtosis using Inbuilt pandas function and write your own function for the same."
      ]
    },
    {
      "cell_type": "code",
      "metadata": {
        "id": "_7DYdHt3uKkd"
      },
      "source": [
        "def my_kurtosis(column_name):\r\n",
        "  k1=0\r\n",
        "  sd=0\r\n",
        "  n = len(column_name)\r\n",
        "  mean = float(sums(column_name)/n)\r\n",
        "  for i in column_name:\r\n",
        "    k1+= (float(i) - mean)**4\r\n",
        "  for j in column_name:\r\n",
        "    sd += (float(j) - mean)**2\r\n",
        "  std = math.sqrt(sd / float(n))\r\n",
        "  kurt = k1/((n-1)*(std**4))\r\n",
        "  return kurt-3"
      ],
      "execution_count": 28,
      "outputs": []
    },
    {
      "cell_type": "code",
      "metadata": {
        "colab": {
          "base_uri": "https://localhost:8080/"
        },
        "id": "4MnqMz6T9LA_",
        "outputId": "2462e70a-99f0-4e99-fb0b-545c201da356"
      },
      "source": [
        "print(\"Kurtosis for first 3 columns using my own function respectievly are:\")\r\n",
        "print(\"Column 1:   \" + str(my_kurtosis(column_1)))\r\n",
        "print(\"Column 2:   \" + str(my_kurtosis(column_2)))\r\n",
        "print(\"Column 3:   \" + str(my_kurtosis(column_3)))\r\n",
        "print(\"------------------------------------------\")\r\n",
        "print(\"Kurtosis for first 3 columns using inbuilt function respectievly are:\")\r\n",
        "print(\"Column 1:   \" + str(column_1.kurtosis()))\r\n",
        "print(\"Column 2:   \" + str(column_2.kurtosis()))\r\n",
        "print(\"Column 3:   \" + str(column_3.kurtosis()))"
      ],
      "execution_count": 132,
      "outputs": [
        {
          "output_type": "stream",
          "text": [
            "Kurtosis for first 3 columns using my own function respectievly are:\n",
            "Column 1:   0.0476194401137775\n",
            "Column 2:   0.8093837384589446\n",
            "Column 3:   -0.8431613146456525\n",
            "------------------------------------------\n",
            "Kurtosis for first 3 columns using inbuilt function respectievly are:\n",
            "Column 1:   0.11555007146606489\n",
            "Column 2:   0.9424897886350738\n",
            "Column 3:   -0.8514445579758396\n"
          ],
          "name": "stdout"
        }
      ]
    },
    {
      "cell_type": "markdown",
      "metadata": {
        "id": "Mg32NdXwtCM6"
      },
      "source": [
        "Find the correlation coeeficient between the \"Mthly_HH_Income\" and\t\"Mthly_HH_Expense\". Compute correlation coeeficient using Inbuilt pandas function and write your own function for the same.\r\n"
      ]
    },
    {
      "cell_type": "code",
      "metadata": {
        "id": "my0YjieUq2A6"
      },
      "source": [
        "expence = df.iloc[:,1]\r\n",
        "income = df.iloc[:,0]\r\n",
        "def my_corelatn(column_name1,column_name2):\r\n",
        "  n = len(column_name1)\r\n",
        "  c1 = my_mean(column_name1)\r\n",
        "  c2 = my_mean(column_name2)\r\n",
        "  psum = sums((xi-c1)*(yi-c2) for xi, yi in zip(column_name1, column_name2))\r\n",
        "  std1 = my_std_dev(column_name1)\r\n",
        "  std2 = my_std_dev(column_name2)\r\n",
        "  corltn = psum/(std1*std2*(n-1))\r\n",
        "  return corltn"
      ],
      "execution_count": 133,
      "outputs": []
    },
    {
      "cell_type": "code",
      "metadata": {
        "colab": {
          "base_uri": "https://localhost:8080/"
        },
        "id": "YhSl_h0xPh1R",
        "outputId": "0d36fed8-a1b6-42b4-b469-4414c50ecc7a"
      },
      "source": [
        "print(\"correlation coeeficient between the Mthly_HH_Income and Mthly_HH_Expense using my own function: \")\r\n",
        "print(income.corr(expence))\r\n",
        "print(\"correlation coeeficient between the Mthly_HH_Income and Mthly_HH_Expense using inbuilt function: \")\r\n",
        "print(my_corelatn(income,expence))"
      ],
      "execution_count": 134,
      "outputs": [
        {
          "output_type": "stream",
          "text": [
            "correlation coeeficient between the Mthly_HH_Income and Mthly_HH_Expense using my own function: \n",
            "0.6492152549316462\n",
            "correlation coeeficient between the Mthly_HH_Income and Mthly_HH_Expense using inbuilt function: \n",
            "0.6492152549316461\n"
          ],
          "name": "stdout"
        }
      ]
    },
    {
      "cell_type": "markdown",
      "metadata": {
        "id": "sNTnuxS3q2kD"
      },
      "source": [
        "Calculate the total counts under each qualification"
      ]
    },
    {
      "cell_type": "code",
      "metadata": {
        "id": "9uYeQk_xq2si",
        "colab": {
          "base_uri": "https://localhost:8080/"
        },
        "outputId": "05ea172c-ad9a-47db-e386-bb2b912715cb"
      },
      "source": [
        "df[\"Highest_Qualified_Member\"].value_counts()"
      ],
      "execution_count": 135,
      "outputs": [
        {
          "output_type": "execute_result",
          "data": {
            "text/plain": [
              "Graduate          19\n",
              "Under-Graduate    10\n",
              "Professional      10\n",
              "Post-Graduate      6\n",
              "Illiterate         5\n",
              "Name: Highest_Qualified_Member, dtype: int64"
            ]
          },
          "metadata": {
            "tags": []
          },
          "execution_count": 135
        }
      ]
    },
    {
      "cell_type": "markdown",
      "metadata": {
        "id": "vQT6RPqOyvi8"
      },
      "source": [
        "Compute logarithmic mean of the first two cols using your own function"
      ]
    },
    {
      "cell_type": "code",
      "metadata": {
        "id": "EUy4s5fjyzuh"
      },
      "source": [
        "def my_log_mean(column_name):\r\n",
        "  x = min(column_name)\r\n",
        "  y = max(column_name)\r\n",
        "  log_mean = (y - x)/(np.log(y)-np.log(x))\r\n",
        "  return log_mean"
      ],
      "execution_count": 136,
      "outputs": []
    },
    {
      "cell_type": "code",
      "metadata": {
        "colab": {
          "base_uri": "https://localhost:8080/"
        },
        "id": "qniiYkk4cFrC",
        "outputId": "7efe4084-a190-4c0e-a2ce-5c60b09ab0b8"
      },
      "source": [
        "print(\"Logarithmic mean of the first column:\")\r\n",
        "print(my_log_mean(column_1))\r\n",
        "print(\"Logarithmic mean of the second column:\")\r\n",
        "print(my_log_mean(column_2))"
      ],
      "execution_count": 137,
      "outputs": [
        {
          "output_type": "stream",
          "text": [
            "Logarithmic mean of the first column:\n",
            "31711.77906605674\n",
            "Logarithmic mean of the second column:\n",
            "14912.038429430682\n"
          ],
          "name": "stdout"
        }
      ]
    },
    {
      "cell_type": "markdown",
      "metadata": {
        "id": "LG4ph_BXyzmq"
      },
      "source": [
        "Compute geometric mean of the first two cols using your own  function and verify using inbuilt Python function"
      ]
    },
    {
      "cell_type": "code",
      "metadata": {
        "id": "5uCUqqOUyvpz"
      },
      "source": [
        "def my_gm(column_name):\r\n",
        "  n = len(column_name)\r\n",
        "  multiply = 1\r\n",
        "  for i in column_name:\r\n",
        "    multiply = multiply*i\r\n",
        "  g_mean = (multiply)**(1/n)\r\n",
        "  return g_mean"
      ],
      "execution_count": 138,
      "outputs": []
    },
    {
      "cell_type": "code",
      "metadata": {
        "colab": {
          "base_uri": "https://localhost:8080/"
        },
        "id": "PBpEbpWZJRR7",
        "outputId": "f8f47b7f-b34d-42f6-dd1d-e09330afb242"
      },
      "source": [
        "print(\"geometric mean of the first two column using my own function : \")\r\n",
        "print(\"Column 1:   \" + str(my_gm(column_1)))\r\n",
        "print(\"Column 2:   \" + str(my_gm(column_2)))\r\n",
        "from scipy.stats.mstats import gmean\r\n",
        "print(\"geometric mean of the first two column using inbuilt function : \")\r\n",
        "print(\"Column 1:   \" + str(gmean(column_1)))\r\n",
        "print(\"Column 2:   \" + str(gmean(column_2)))"
      ],
      "execution_count": 139,
      "outputs": [
        {
          "output_type": "stream",
          "text": [
            "geometric mean of the first two column using my own function : \n",
            "Column 1:   33590.377540213965\n",
            "Column 2:   15391.899582223135\n",
            "geometric mean of the first two column using inbuilt function : \n",
            "Column 1:   33590.37754021395\n",
            "Column 2:   15391.89958222314\n"
          ],
          "name": "stdout"
        }
      ]
    },
    {
      "cell_type": "markdown",
      "metadata": {
        "id": "Sgq9FwT-y7vC"
      },
      "source": [
        "Compute *Mean Deviation from the Mean* of the first two cols using your own  function and verify using inbuilt Python function"
      ]
    },
    {
      "cell_type": "code",
      "metadata": {
        "id": "ImCyk2CAy7zJ"
      },
      "source": [
        "def my_mean_devn(column_name):\r\n",
        "  md1 = my_mean(column_name)\r\n",
        "  n = len(column_name)\r\n",
        "  devn = 0\r\n",
        "  for i in column_name:\r\n",
        "    devn+=(i-md1)\r\n",
        "  return (devn/n)\r\n"
      ],
      "execution_count": 142,
      "outputs": []
    },
    {
      "cell_type": "code",
      "metadata": {
        "colab": {
          "base_uri": "https://localhost:8080/"
        },
        "id": "4EWH-nNALaAY",
        "outputId": "c6416333-c2c0-48b6-dfd4-eae95a1ded4b"
      },
      "source": [
        "print(\"Mean Deviation from the Mean of the first two columns are: \")\r\n",
        "print(\"Column 1:   \" + str(my_mean_devn(column_1)))\r\n",
        "print(\"Column 2:   \" + str(my_mean_devn(column_2)))\r\n",
        "\r\n",
        "#Could not find inbuilt function for Mean deviation from Mean"
      ],
      "execution_count": 144,
      "outputs": [
        {
          "output_type": "stream",
          "text": [
            "Mean Deviation from the Mean of the first two columns are: \n",
            "Column 1:   0.0\n",
            "Column 2:   0.0\n"
          ],
          "name": "stdout"
        }
      ]
    },
    {
      "cell_type": "markdown",
      "metadata": {
        "id": "IPbeTeSlzEEi"
      },
      "source": [
        "Compute *Mean Absolute Deviation from the Mean* of the first two cols using your own function and verify using inbuilt Python function"
      ]
    },
    {
      "cell_type": "code",
      "metadata": {
        "id": "hITjKV8QzENJ"
      },
      "source": [
        "def my_mean_abs_devn(column_name):\r\n",
        "  md1 = my_mean(column_name)\r\n",
        "  n = len(column_name)\r\n",
        "  devn = 0\r\n",
        "  for i in column_name:\r\n",
        "    devn+=abs(i-md1)\r\n",
        "  return (devn/n)"
      ],
      "execution_count": 147,
      "outputs": []
    },
    {
      "cell_type": "code",
      "metadata": {
        "colab": {
          "base_uri": "https://localhost:8080/"
        },
        "id": "XeJC4dyTL9Pr",
        "outputId": "d5e8018a-9915-4e38-b9db-49f72f487b14"
      },
      "source": [
        "print(\"Mean absolute deviation of column 1 and column 2 using my own function: \")\r\n",
        "print(\"Column 1:   \" + str(my_mean_abs_devn(column_1)))\r\n",
        "print(\"Column 1:   \" + str(my_mean_abs_devn(column_2)))\r\n",
        "print(\"Mean absolute deviation of column 1 and column 2 using inbuilt Function: \")\r\n",
        "print(\"Column 1:   \" + str(column_1.mad()))\r\n",
        "print(\"Column 2:   \" + str(column_2.mad()))"
      ],
      "execution_count": 150,
      "outputs": [
        {
          "output_type": "stream",
          "text": [
            "Mean absolute deviation of column 1 and column 2 using my own function: \n",
            "Column 1:   20288.96\n",
            "Column 1:   9247.44\n",
            "Mean absolute deviation of column 1 and column 2 using inbuilt Function: \n",
            "Column 1:   20288.96\n",
            "Column 2:   9247.44\n"
          ],
          "name": "stdout"
        }
      ]
    },
    {
      "cell_type": "markdown",
      "metadata": {
        "id": "OVoo_Mc0zMfS"
      },
      "source": [
        "Compute *Coefficient of Variation* of the first two cols using your own function and verify using inbuilt Python function"
      ]
    },
    {
      "cell_type": "code",
      "metadata": {
        "id": "3Xw8Xa0czMly"
      },
      "source": [
        "def coef_of_vartn(column_name):\r\n",
        "  sd = 0\r\n",
        "  n = len(column_name)\r\n",
        "  mean = float(sums(column_name)/n)\r\n",
        "  for i in column_name:\r\n",
        "    sd+=(float(i)-mean)**2\r\n",
        "  sd = (sd/(n))**(1/2)\r\n",
        "  cof = (sd)/mean\r\n",
        "  return (cof)"
      ],
      "execution_count": 153,
      "outputs": []
    },
    {
      "cell_type": "code",
      "metadata": {
        "colab": {
          "base_uri": "https://localhost:8080/"
        },
        "id": "8tQIPyLROwOH",
        "outputId": "e9723eda-e348-4fbc-83e6-fa2bd7b94267"
      },
      "source": [
        "from scipy.stats import variation\r\n",
        "print(\"Coefficient of Variation of column 1 and column 2 using my own function: \")\r\n",
        "print(\"Column 1:   \" + str(coef_of_vartn(column_1)))\r\n",
        "print(\"Column 1:   \" + str(coef_of_vartn(column_2)))\r\n",
        "print(\"Coefficient of Variation of column 1 and column 2 using inbuilt Function: \")\r\n",
        "print(\"Column 1:   \" + str(variation(column_1)))\r\n",
        "print(\"Column 2:   \" + str(variation(column_2)))"
      ],
      "execution_count": 155,
      "outputs": [
        {
          "output_type": "stream",
          "text": [
            "Coefficient of Variation of column 1 and column 2 using my own function: \n",
            "Column 1:   0.6216760137420672\n",
            "Column 1:   0.636024233362227\n",
            "Coefficient of Variation of column 1 and column 2 using inbuilt Function: \n",
            "Column 1:   0.6216760137420672\n",
            "Column 2:   0.636024233362227\n"
          ],
          "name": "stdout"
        }
      ]
    },
    {
      "cell_type": "markdown",
      "metadata": {
        "id": "zXC0DSBH0WFV"
      },
      "source": [
        "Compute z score  for all numerical cols using your own function  and verify using inbuilt Python function"
      ]
    },
    {
      "cell_type": "code",
      "metadata": {
        "id": "rOj1wKsKWAVG"
      },
      "source": [
        "def my_zscore(column_name):\r\n",
        "  z = 0\r\n",
        "  sd = 0\r\n",
        "  a =[]\r\n",
        "  n = len(column_name)\r\n",
        "  for i in column_name:\r\n",
        "    z+=i\r\n",
        "  mean = z/n\r\n",
        "  for j in column_name:\r\n",
        "    sd+=(float(j)-mean)**2\r\n",
        "  sd = (sd/float(n))**(1/2)\r\n",
        "  for k in column_name:\r\n",
        "    z_score = (k-mean)/sd\r\n",
        "    #print(z_score)\r\n",
        "    a.append(z_score)\r\n",
        "  return a"
      ],
      "execution_count": 41,
      "outputs": []
    },
    {
      "cell_type": "code",
      "metadata": {
        "id": "ANWzksELcmvA",
        "colab": {
          "base_uri": "https://localhost:8080/",
          "height": 1000
        },
        "outputId": "44194c3c-1792-4c2a-b7cd-dc6aad3a2396"
      },
      "source": [
        "# Z score using my own function\r\n",
        "from pandas import DataFrame\r\n",
        "arr = {'Mthly_HH_Income': my_zscore(column_1), 'Mthly_HH_Expense': my_zscore(column_2), 'No_of_Fly_Members': my_zscore(column_3),'Emi_or_Rent_Amt': my_zscore(column_4),'Annual_HH_Income': my_zscore(column_5), 'No_of_Earning_Members': my_zscore(column_7)}\r\n",
        "arrn = pd.DataFrame(data=arr)\r\n",
        "print(\" Z score for all numerical cols using my own function\")\r\n",
        "arrn"
      ],
      "execution_count": 156,
      "outputs": [
        {
          "output_type": "stream",
          "text": [
            " Z score for all numerical cols using my own function\n"
          ],
          "name": "stdout"
        },
        {
          "output_type": "execute_result",
          "data": {
            "text/html": [
              "<div>\n",
              "<style scoped>\n",
              "    .dataframe tbody tr th:only-of-type {\n",
              "        vertical-align: middle;\n",
              "    }\n",
              "\n",
              "    .dataframe tbody tr th {\n",
              "        vertical-align: top;\n",
              "    }\n",
              "\n",
              "    .dataframe thead th {\n",
              "        text-align: right;\n",
              "    }\n",
              "</style>\n",
              "<table border=\"1\" class=\"dataframe\">\n",
              "  <thead>\n",
              "    <tr style=\"text-align: right;\">\n",
              "      <th></th>\n",
              "      <th>Mthly_HH_Income</th>\n",
              "      <th>Mthly_HH_Expense</th>\n",
              "      <th>No_of_Fly_Members</th>\n",
              "      <th>Emi_or_Rent_Amt</th>\n",
              "      <th>Annual_HH_Income</th>\n",
              "      <th>No_of_Earning_Members</th>\n",
              "    </tr>\n",
              "  </thead>\n",
              "  <tbody>\n",
              "    <tr>\n",
              "      <th>0</th>\n",
              "      <td>-1.415024</td>\n",
              "      <td>-0.903857</td>\n",
              "      <td>-0.705664</td>\n",
              "      <td>-0.171557</td>\n",
              "      <td>-1.343624</td>\n",
              "      <td>-0.632815</td>\n",
              "    </tr>\n",
              "    <tr>\n",
              "      <th>1</th>\n",
              "      <td>-1.376317</td>\n",
              "      <td>-0.987408</td>\n",
              "      <td>-1.371384</td>\n",
              "      <td>-0.009711</td>\n",
              "      <td>-1.294021</td>\n",
              "      <td>-0.632815</td>\n",
              "    </tr>\n",
              "    <tr>\n",
              "      <th>2</th>\n",
              "      <td>-1.221492</td>\n",
              "      <td>-1.196287</td>\n",
              "      <td>-1.371384</td>\n",
              "      <td>-0.495249</td>\n",
              "      <td>-1.190272</td>\n",
              "      <td>-0.632815</td>\n",
              "    </tr>\n",
              "    <tr>\n",
              "      <th>3</th>\n",
              "      <td>-1.221492</td>\n",
              "      <td>-1.405165</td>\n",
              "      <td>-2.037105</td>\n",
              "      <td>-0.495249</td>\n",
              "      <td>-1.239496</td>\n",
              "      <td>-0.632815</td>\n",
              "    </tr>\n",
              "    <tr>\n",
              "      <th>4</th>\n",
              "      <td>-1.124727</td>\n",
              "      <td>-0.569652</td>\n",
              "      <td>-1.371384</td>\n",
              "      <td>-0.009711</td>\n",
              "      <td>-1.082358</td>\n",
              "      <td>-0.632815</td>\n",
              "    </tr>\n",
              "    <tr>\n",
              "      <th>5</th>\n",
              "      <td>-1.066667</td>\n",
              "      <td>-0.903857</td>\n",
              "      <td>-1.371384</td>\n",
              "      <td>-0.495249</td>\n",
              "      <td>-0.925977</td>\n",
              "      <td>-0.632815</td>\n",
              "    </tr>\n",
              "    <tr>\n",
              "      <th>6</th>\n",
              "      <td>-1.027961</td>\n",
              "      <td>-0.235447</td>\n",
              "      <td>-0.705664</td>\n",
              "      <td>5.169368</td>\n",
              "      <td>-1.017988</td>\n",
              "      <td>-0.632815</td>\n",
              "    </tr>\n",
              "    <tr>\n",
              "      <th>7</th>\n",
              "      <td>-0.911842</td>\n",
              "      <td>0.098758</td>\n",
              "      <td>0.625777</td>\n",
              "      <td>0.799520</td>\n",
              "      <td>-0.864636</td>\n",
              "      <td>-0.632815</td>\n",
              "    </tr>\n",
              "    <tr>\n",
              "      <th>8</th>\n",
              "      <td>-0.873136</td>\n",
              "      <td>-0.820306</td>\n",
              "      <td>-1.371384</td>\n",
              "      <td>-0.495249</td>\n",
              "      <td>-0.855549</td>\n",
              "      <td>-0.632815</td>\n",
              "    </tr>\n",
              "    <tr>\n",
              "      <th>9</th>\n",
              "      <td>-0.834430</td>\n",
              "      <td>-0.820306</td>\n",
              "      <td>-0.039943</td>\n",
              "      <td>-0.495249</td>\n",
              "      <td>-0.849490</td>\n",
              "      <td>0.742869</td>\n",
              "    </tr>\n",
              "    <tr>\n",
              "      <th>10</th>\n",
              "      <td>-0.834430</td>\n",
              "      <td>-0.068345</td>\n",
              "      <td>-0.039943</td>\n",
              "      <td>0.799520</td>\n",
              "      <td>-0.667740</td>\n",
              "      <td>0.742869</td>\n",
              "    </tr>\n",
              "    <tr>\n",
              "      <th>11</th>\n",
              "      <td>-0.757017</td>\n",
              "      <td>0.516514</td>\n",
              "      <td>1.291498</td>\n",
              "      <td>1.446905</td>\n",
              "      <td>-0.663196</td>\n",
              "      <td>-0.632815</td>\n",
              "    </tr>\n",
              "    <tr>\n",
              "      <th>12</th>\n",
              "      <td>-0.702828</td>\n",
              "      <td>-1.154511</td>\n",
              "      <td>-0.705664</td>\n",
              "      <td>-0.495249</td>\n",
              "      <td>-0.624726</td>\n",
              "      <td>-0.632815</td>\n",
              "    </tr>\n",
              "    <tr>\n",
              "      <th>13</th>\n",
              "      <td>-0.679605</td>\n",
              "      <td>-0.694979</td>\n",
              "      <td>1.291498</td>\n",
              "      <td>-0.495249</td>\n",
              "      <td>-0.546573</td>\n",
              "      <td>0.742869</td>\n",
              "    </tr>\n",
              "    <tr>\n",
              "      <th>14</th>\n",
              "      <td>-0.679605</td>\n",
              "      <td>-0.736755</td>\n",
              "      <td>-0.039943</td>\n",
              "      <td>-0.495249</td>\n",
              "      <td>-0.773761</td>\n",
              "      <td>0.742869</td>\n",
              "    </tr>\n",
              "    <tr>\n",
              "      <th>15</th>\n",
              "      <td>-0.640898</td>\n",
              "      <td>-0.544587</td>\n",
              "      <td>-0.705664</td>\n",
              "      <td>-0.495249</td>\n",
              "      <td>-0.769975</td>\n",
              "      <td>-0.632815</td>\n",
              "    </tr>\n",
              "    <tr>\n",
              "      <th>16</th>\n",
              "      <td>-0.640898</td>\n",
              "      <td>0.098758</td>\n",
              "      <td>-0.705664</td>\n",
              "      <td>0.071212</td>\n",
              "      <td>-0.722644</td>\n",
              "      <td>-0.632815</td>\n",
              "    </tr>\n",
              "    <tr>\n",
              "      <th>17</th>\n",
              "      <td>-0.640898</td>\n",
              "      <td>-0.736755</td>\n",
              "      <td>1.291498</td>\n",
              "      <td>-0.495249</td>\n",
              "      <td>-0.732110</td>\n",
              "      <td>2.118553</td>\n",
              "    </tr>\n",
              "    <tr>\n",
              "      <th>18</th>\n",
              "      <td>-0.486073</td>\n",
              "      <td>-1.020829</td>\n",
              "      <td>-1.371384</td>\n",
              "      <td>-0.171557</td>\n",
              "      <td>-0.448125</td>\n",
              "      <td>-0.632815</td>\n",
              "    </tr>\n",
              "    <tr>\n",
              "      <th>19</th>\n",
              "      <td>-0.447367</td>\n",
              "      <td>-0.486101</td>\n",
              "      <td>-0.039943</td>\n",
              "      <td>-0.495249</td>\n",
              "      <td>-0.330745</td>\n",
              "      <td>-0.632815</td>\n",
              "    </tr>\n",
              "    <tr>\n",
              "      <th>20</th>\n",
              "      <td>-0.428014</td>\n",
              "      <td>0.516514</td>\n",
              "      <td>0.625777</td>\n",
              "      <td>0.313982</td>\n",
              "      <td>-0.437523</td>\n",
              "      <td>-0.632815</td>\n",
              "    </tr>\n",
              "    <tr>\n",
              "      <th>21</th>\n",
              "      <td>-0.369954</td>\n",
              "      <td>-0.318999</td>\n",
              "      <td>-0.039943</td>\n",
              "      <td>-0.495249</td>\n",
              "      <td>-0.140664</td>\n",
              "      <td>-0.632815</td>\n",
              "    </tr>\n",
              "    <tr>\n",
              "      <th>22</th>\n",
              "      <td>-0.292542</td>\n",
              "      <td>0.015206</td>\n",
              "      <td>1.291498</td>\n",
              "      <td>-0.495249</td>\n",
              "      <td>-0.503408</td>\n",
              "      <td>-0.632815</td>\n",
              "    </tr>\n",
              "    <tr>\n",
              "      <th>23</th>\n",
              "      <td>-0.292542</td>\n",
              "      <td>0.516514</td>\n",
              "      <td>-0.705664</td>\n",
              "      <td>0.152135</td>\n",
              "      <td>-0.065692</td>\n",
              "      <td>-0.632815</td>\n",
              "    </tr>\n",
              "    <tr>\n",
              "      <th>24</th>\n",
              "      <td>-0.253836</td>\n",
              "      <td>-0.569652</td>\n",
              "      <td>-0.705664</td>\n",
              "      <td>-0.495249</td>\n",
              "      <td>-0.075158</td>\n",
              "      <td>-0.632815</td>\n",
              "    </tr>\n",
              "    <tr>\n",
              "      <th>25</th>\n",
              "      <td>-0.253836</td>\n",
              "      <td>0.516514</td>\n",
              "      <td>-0.039943</td>\n",
              "      <td>-0.495249</td>\n",
              "      <td>-0.128169</td>\n",
              "      <td>0.742869</td>\n",
              "    </tr>\n",
              "    <tr>\n",
              "      <th>26</th>\n",
              "      <td>-0.099011</td>\n",
              "      <td>-0.903857</td>\n",
              "      <td>-0.039943</td>\n",
              "      <td>-0.495249</td>\n",
              "      <td>0.211098</td>\n",
              "      <td>-0.632815</td>\n",
              "    </tr>\n",
              "    <tr>\n",
              "      <th>27</th>\n",
              "      <td>-0.060304</td>\n",
              "      <td>-0.736755</td>\n",
              "      <td>-0.039943</td>\n",
              "      <td>-0.495249</td>\n",
              "      <td>-0.243656</td>\n",
              "      <td>-0.632815</td>\n",
              "    </tr>\n",
              "    <tr>\n",
              "      <th>28</th>\n",
              "      <td>0.017108</td>\n",
              "      <td>-0.318999</td>\n",
              "      <td>-0.039943</td>\n",
              "      <td>-0.495249</td>\n",
              "      <td>-0.003594</td>\n",
              "      <td>-0.632815</td>\n",
              "    </tr>\n",
              "    <tr>\n",
              "      <th>29</th>\n",
              "      <td>0.055814</td>\n",
              "      <td>-0.569652</td>\n",
              "      <td>-0.039943</td>\n",
              "      <td>-0.495249</td>\n",
              "      <td>0.407616</td>\n",
              "      <td>-0.632815</td>\n",
              "    </tr>\n",
              "    <tr>\n",
              "      <th>30</th>\n",
              "      <td>0.133227</td>\n",
              "      <td>0.516514</td>\n",
              "      <td>1.291498</td>\n",
              "      <td>-0.495249</td>\n",
              "      <td>0.106592</td>\n",
              "      <td>2.118553</td>\n",
              "    </tr>\n",
              "    <tr>\n",
              "      <th>31</th>\n",
              "      <td>0.133227</td>\n",
              "      <td>1.769782</td>\n",
              "      <td>1.291498</td>\n",
              "      <td>0.071212</td>\n",
              "      <td>0.055475</td>\n",
              "      <td>0.742869</td>\n",
              "    </tr>\n",
              "    <tr>\n",
              "      <th>32</th>\n",
              "      <td>0.133227</td>\n",
              "      <td>-0.736755</td>\n",
              "      <td>-1.371384</td>\n",
              "      <td>-0.333403</td>\n",
              "      <td>-0.166033</td>\n",
              "      <td>-0.632815</td>\n",
              "    </tr>\n",
              "    <tr>\n",
              "      <th>33</th>\n",
              "      <td>0.133227</td>\n",
              "      <td>0.265860</td>\n",
              "      <td>-0.039943</td>\n",
              "      <td>-0.090634</td>\n",
              "      <td>0.379218</td>\n",
              "      <td>-0.632815</td>\n",
              "    </tr>\n",
              "    <tr>\n",
              "      <th>34</th>\n",
              "      <td>0.171933</td>\n",
              "      <td>0.516514</td>\n",
              "      <td>0.625777</td>\n",
              "      <td>0.071212</td>\n",
              "      <td>0.334916</td>\n",
              "      <td>-0.632815</td>\n",
              "    </tr>\n",
              "    <tr>\n",
              "      <th>35</th>\n",
              "      <td>0.210639</td>\n",
              "      <td>-0.318999</td>\n",
              "      <td>1.957218</td>\n",
              "      <td>-0.495249</td>\n",
              "      <td>-0.104693</td>\n",
              "      <td>3.494237</td>\n",
              "    </tr>\n",
              "    <tr>\n",
              "      <th>36</th>\n",
              "      <td>0.326758</td>\n",
              "      <td>0.098758</td>\n",
              "      <td>-0.039943</td>\n",
              "      <td>-0.495249</td>\n",
              "      <td>0.252371</td>\n",
              "      <td>-0.632815</td>\n",
              "    </tr>\n",
              "    <tr>\n",
              "      <th>37</th>\n",
              "      <td>0.346111</td>\n",
              "      <td>0.098758</td>\n",
              "      <td>-0.705664</td>\n",
              "      <td>-0.495249</td>\n",
              "      <td>0.289478</td>\n",
              "      <td>0.742869</td>\n",
              "    </tr>\n",
              "    <tr>\n",
              "      <th>38</th>\n",
              "      <td>0.520290</td>\n",
              "      <td>2.187538</td>\n",
              "      <td>1.291498</td>\n",
              "      <td>1.446905</td>\n",
              "      <td>0.348926</td>\n",
              "      <td>0.742869</td>\n",
              "    </tr>\n",
              "    <tr>\n",
              "      <th>39</th>\n",
              "      <td>0.713821</td>\n",
              "      <td>-0.736755</td>\n",
              "      <td>-0.705664</td>\n",
              "      <td>-0.495249</td>\n",
              "      <td>0.316741</td>\n",
              "      <td>-0.632815</td>\n",
              "    </tr>\n",
              "    <tr>\n",
              "      <th>40</th>\n",
              "      <td>0.713821</td>\n",
              "      <td>2.605295</td>\n",
              "      <td>1.291498</td>\n",
              "      <td>1.123213</td>\n",
              "      <td>0.316741</td>\n",
              "      <td>-0.632815</td>\n",
              "    </tr>\n",
              "    <tr>\n",
              "      <th>41</th>\n",
              "      <td>0.907352</td>\n",
              "      <td>0.098758</td>\n",
              "      <td>-0.039943</td>\n",
              "      <td>0.313982</td>\n",
              "      <td>0.496598</td>\n",
              "      <td>0.742869</td>\n",
              "    </tr>\n",
              "    <tr>\n",
              "      <th>42</th>\n",
              "      <td>1.100884</td>\n",
              "      <td>-0.820306</td>\n",
              "      <td>-1.371384</td>\n",
              "      <td>-0.495249</td>\n",
              "      <td>0.839273</td>\n",
              "      <td>-0.632815</td>\n",
              "    </tr>\n",
              "    <tr>\n",
              "      <th>43</th>\n",
              "      <td>1.487946</td>\n",
              "      <td>0.098758</td>\n",
              "      <td>-0.039943</td>\n",
              "      <td>-0.495249</td>\n",
              "      <td>1.846473</td>\n",
              "      <td>-0.632815</td>\n",
              "    </tr>\n",
              "    <tr>\n",
              "      <th>44</th>\n",
              "      <td>1.681478</td>\n",
              "      <td>0.516514</td>\n",
              "      <td>0.625777</td>\n",
              "      <td>-0.495249</td>\n",
              "      <td>2.058515</td>\n",
              "      <td>0.742869</td>\n",
              "    </tr>\n",
              "    <tr>\n",
              "      <th>45</th>\n",
              "      <td>1.875009</td>\n",
              "      <td>2.438192</td>\n",
              "      <td>1.957218</td>\n",
              "      <td>-0.495249</td>\n",
              "      <td>1.248211</td>\n",
              "      <td>2.118553</td>\n",
              "    </tr>\n",
              "    <tr>\n",
              "      <th>46</th>\n",
              "      <td>2.184659</td>\n",
              "      <td>0.516514</td>\n",
              "      <td>0.625777</td>\n",
              "      <td>-0.495249</td>\n",
              "      <td>2.090321</td>\n",
              "      <td>0.742869</td>\n",
              "    </tr>\n",
              "    <tr>\n",
              "      <th>47</th>\n",
              "      <td>2.262071</td>\n",
              "      <td>0.934270</td>\n",
              "      <td>1.291498</td>\n",
              "      <td>-0.495249</td>\n",
              "      <td>2.883964</td>\n",
              "      <td>2.118553</td>\n",
              "    </tr>\n",
              "    <tr>\n",
              "      <th>48</th>\n",
              "      <td>2.262071</td>\n",
              "      <td>2.605295</td>\n",
              "      <td>-0.039943</td>\n",
              "      <td>2.741675</td>\n",
              "      <td>1.710160</td>\n",
              "      <td>0.742869</td>\n",
              "    </tr>\n",
              "    <tr>\n",
              "      <th>49</th>\n",
              "      <td>2.262071</td>\n",
              "      <td>1.769782</td>\n",
              "      <td>1.291498</td>\n",
              "      <td>1.123213</td>\n",
              "      <td>2.618912</td>\n",
              "      <td>-0.632815</td>\n",
              "    </tr>\n",
              "  </tbody>\n",
              "</table>\n",
              "</div>"
            ],
            "text/plain": [
              "    Mthly_HH_Income  Mthly_HH_Expense  ...  Annual_HH_Income  No_of_Earning_Members\n",
              "0         -1.415024         -0.903857  ...         -1.343624              -0.632815\n",
              "1         -1.376317         -0.987408  ...         -1.294021              -0.632815\n",
              "2         -1.221492         -1.196287  ...         -1.190272              -0.632815\n",
              "3         -1.221492         -1.405165  ...         -1.239496              -0.632815\n",
              "4         -1.124727         -0.569652  ...         -1.082358              -0.632815\n",
              "5         -1.066667         -0.903857  ...         -0.925977              -0.632815\n",
              "6         -1.027961         -0.235447  ...         -1.017988              -0.632815\n",
              "7         -0.911842          0.098758  ...         -0.864636              -0.632815\n",
              "8         -0.873136         -0.820306  ...         -0.855549              -0.632815\n",
              "9         -0.834430         -0.820306  ...         -0.849490               0.742869\n",
              "10        -0.834430         -0.068345  ...         -0.667740               0.742869\n",
              "11        -0.757017          0.516514  ...         -0.663196              -0.632815\n",
              "12        -0.702828         -1.154511  ...         -0.624726              -0.632815\n",
              "13        -0.679605         -0.694979  ...         -0.546573               0.742869\n",
              "14        -0.679605         -0.736755  ...         -0.773761               0.742869\n",
              "15        -0.640898         -0.544587  ...         -0.769975              -0.632815\n",
              "16        -0.640898          0.098758  ...         -0.722644              -0.632815\n",
              "17        -0.640898         -0.736755  ...         -0.732110               2.118553\n",
              "18        -0.486073         -1.020829  ...         -0.448125              -0.632815\n",
              "19        -0.447367         -0.486101  ...         -0.330745              -0.632815\n",
              "20        -0.428014          0.516514  ...         -0.437523              -0.632815\n",
              "21        -0.369954         -0.318999  ...         -0.140664              -0.632815\n",
              "22        -0.292542          0.015206  ...         -0.503408              -0.632815\n",
              "23        -0.292542          0.516514  ...         -0.065692              -0.632815\n",
              "24        -0.253836         -0.569652  ...         -0.075158              -0.632815\n",
              "25        -0.253836          0.516514  ...         -0.128169               0.742869\n",
              "26        -0.099011         -0.903857  ...          0.211098              -0.632815\n",
              "27        -0.060304         -0.736755  ...         -0.243656              -0.632815\n",
              "28         0.017108         -0.318999  ...         -0.003594              -0.632815\n",
              "29         0.055814         -0.569652  ...          0.407616              -0.632815\n",
              "30         0.133227          0.516514  ...          0.106592               2.118553\n",
              "31         0.133227          1.769782  ...          0.055475               0.742869\n",
              "32         0.133227         -0.736755  ...         -0.166033              -0.632815\n",
              "33         0.133227          0.265860  ...          0.379218              -0.632815\n",
              "34         0.171933          0.516514  ...          0.334916              -0.632815\n",
              "35         0.210639         -0.318999  ...         -0.104693               3.494237\n",
              "36         0.326758          0.098758  ...          0.252371              -0.632815\n",
              "37         0.346111          0.098758  ...          0.289478               0.742869\n",
              "38         0.520290          2.187538  ...          0.348926               0.742869\n",
              "39         0.713821         -0.736755  ...          0.316741              -0.632815\n",
              "40         0.713821          2.605295  ...          0.316741              -0.632815\n",
              "41         0.907352          0.098758  ...          0.496598               0.742869\n",
              "42         1.100884         -0.820306  ...          0.839273              -0.632815\n",
              "43         1.487946          0.098758  ...          1.846473              -0.632815\n",
              "44         1.681478          0.516514  ...          2.058515               0.742869\n",
              "45         1.875009          2.438192  ...          1.248211               2.118553\n",
              "46         2.184659          0.516514  ...          2.090321               0.742869\n",
              "47         2.262071          0.934270  ...          2.883964               2.118553\n",
              "48         2.262071          2.605295  ...          1.710160               0.742869\n",
              "49         2.262071          1.769782  ...          2.618912              -0.632815\n",
              "\n",
              "[50 rows x 6 columns]"
            ]
          },
          "metadata": {
            "tags": []
          },
          "execution_count": 156
        }
      ]
    },
    {
      "cell_type": "code",
      "metadata": {
        "colab": {
          "base_uri": "https://localhost:8080/",
          "height": 1000
        },
        "id": "HKqsTsYGdVcB",
        "outputId": "d8ad0c87-0860-4bd3-d44b-8797bf11c1c4"
      },
      "source": [
        "# Z score using inbuilt function\r\n",
        "import scipy.stats as stats\r\n",
        "datanew = df.drop([\"Highest_Qualified_Member\"],axis = 1)\r\n",
        "print(\" Z score for all numerical cols using inbuilt function\")\r\n",
        "datanew.apply(stats.zscore)"
      ],
      "execution_count": 157,
      "outputs": [
        {
          "output_type": "stream",
          "text": [
            " Z score for all numerical cols using inbuilt function\n"
          ],
          "name": "stdout"
        },
        {
          "output_type": "execute_result",
          "data": {
            "text/html": [
              "<div>\n",
              "<style scoped>\n",
              "    .dataframe tbody tr th:only-of-type {\n",
              "        vertical-align: middle;\n",
              "    }\n",
              "\n",
              "    .dataframe tbody tr th {\n",
              "        vertical-align: top;\n",
              "    }\n",
              "\n",
              "    .dataframe thead th {\n",
              "        text-align: right;\n",
              "    }\n",
              "</style>\n",
              "<table border=\"1\" class=\"dataframe\">\n",
              "  <thead>\n",
              "    <tr style=\"text-align: right;\">\n",
              "      <th></th>\n",
              "      <th>Mthly_HH_Income</th>\n",
              "      <th>Mthly_HH_Expense</th>\n",
              "      <th>No_of_Fly_Members</th>\n",
              "      <th>Emi_or_Rent_Amt</th>\n",
              "      <th>Annual_HH_Income</th>\n",
              "      <th>No_of_Earning_Members</th>\n",
              "    </tr>\n",
              "  </thead>\n",
              "  <tbody>\n",
              "    <tr>\n",
              "      <th>0</th>\n",
              "      <td>-1.415024</td>\n",
              "      <td>-0.903857</td>\n",
              "      <td>-0.705664</td>\n",
              "      <td>-0.171557</td>\n",
              "      <td>-1.343624</td>\n",
              "      <td>-0.632815</td>\n",
              "    </tr>\n",
              "    <tr>\n",
              "      <th>1</th>\n",
              "      <td>-1.376317</td>\n",
              "      <td>-0.987408</td>\n",
              "      <td>-1.371384</td>\n",
              "      <td>-0.009711</td>\n",
              "      <td>-1.294021</td>\n",
              "      <td>-0.632815</td>\n",
              "    </tr>\n",
              "    <tr>\n",
              "      <th>2</th>\n",
              "      <td>-1.221492</td>\n",
              "      <td>-1.196287</td>\n",
              "      <td>-1.371384</td>\n",
              "      <td>-0.495249</td>\n",
              "      <td>-1.190272</td>\n",
              "      <td>-0.632815</td>\n",
              "    </tr>\n",
              "    <tr>\n",
              "      <th>3</th>\n",
              "      <td>-1.221492</td>\n",
              "      <td>-1.405165</td>\n",
              "      <td>-2.037105</td>\n",
              "      <td>-0.495249</td>\n",
              "      <td>-1.239496</td>\n",
              "      <td>-0.632815</td>\n",
              "    </tr>\n",
              "    <tr>\n",
              "      <th>4</th>\n",
              "      <td>-1.124727</td>\n",
              "      <td>-0.569652</td>\n",
              "      <td>-1.371384</td>\n",
              "      <td>-0.009711</td>\n",
              "      <td>-1.082358</td>\n",
              "      <td>-0.632815</td>\n",
              "    </tr>\n",
              "    <tr>\n",
              "      <th>5</th>\n",
              "      <td>-1.066667</td>\n",
              "      <td>-0.903857</td>\n",
              "      <td>-1.371384</td>\n",
              "      <td>-0.495249</td>\n",
              "      <td>-0.925977</td>\n",
              "      <td>-0.632815</td>\n",
              "    </tr>\n",
              "    <tr>\n",
              "      <th>6</th>\n",
              "      <td>-1.027961</td>\n",
              "      <td>-0.235447</td>\n",
              "      <td>-0.705664</td>\n",
              "      <td>5.169368</td>\n",
              "      <td>-1.017988</td>\n",
              "      <td>-0.632815</td>\n",
              "    </tr>\n",
              "    <tr>\n",
              "      <th>7</th>\n",
              "      <td>-0.911842</td>\n",
              "      <td>0.098758</td>\n",
              "      <td>0.625777</td>\n",
              "      <td>0.799520</td>\n",
              "      <td>-0.864636</td>\n",
              "      <td>-0.632815</td>\n",
              "    </tr>\n",
              "    <tr>\n",
              "      <th>8</th>\n",
              "      <td>-0.873136</td>\n",
              "      <td>-0.820306</td>\n",
              "      <td>-1.371384</td>\n",
              "      <td>-0.495249</td>\n",
              "      <td>-0.855549</td>\n",
              "      <td>-0.632815</td>\n",
              "    </tr>\n",
              "    <tr>\n",
              "      <th>9</th>\n",
              "      <td>-0.834430</td>\n",
              "      <td>-0.820306</td>\n",
              "      <td>-0.039943</td>\n",
              "      <td>-0.495249</td>\n",
              "      <td>-0.849490</td>\n",
              "      <td>0.742869</td>\n",
              "    </tr>\n",
              "    <tr>\n",
              "      <th>10</th>\n",
              "      <td>-0.834430</td>\n",
              "      <td>-0.068345</td>\n",
              "      <td>-0.039943</td>\n",
              "      <td>0.799520</td>\n",
              "      <td>-0.667740</td>\n",
              "      <td>0.742869</td>\n",
              "    </tr>\n",
              "    <tr>\n",
              "      <th>11</th>\n",
              "      <td>-0.757017</td>\n",
              "      <td>0.516514</td>\n",
              "      <td>1.291498</td>\n",
              "      <td>1.446905</td>\n",
              "      <td>-0.663196</td>\n",
              "      <td>-0.632815</td>\n",
              "    </tr>\n",
              "    <tr>\n",
              "      <th>12</th>\n",
              "      <td>-0.702828</td>\n",
              "      <td>-1.154511</td>\n",
              "      <td>-0.705664</td>\n",
              "      <td>-0.495249</td>\n",
              "      <td>-0.624726</td>\n",
              "      <td>-0.632815</td>\n",
              "    </tr>\n",
              "    <tr>\n",
              "      <th>13</th>\n",
              "      <td>-0.679605</td>\n",
              "      <td>-0.694979</td>\n",
              "      <td>1.291498</td>\n",
              "      <td>-0.495249</td>\n",
              "      <td>-0.546573</td>\n",
              "      <td>0.742869</td>\n",
              "    </tr>\n",
              "    <tr>\n",
              "      <th>14</th>\n",
              "      <td>-0.679605</td>\n",
              "      <td>-0.736755</td>\n",
              "      <td>-0.039943</td>\n",
              "      <td>-0.495249</td>\n",
              "      <td>-0.773761</td>\n",
              "      <td>0.742869</td>\n",
              "    </tr>\n",
              "    <tr>\n",
              "      <th>15</th>\n",
              "      <td>-0.640898</td>\n",
              "      <td>-0.544587</td>\n",
              "      <td>-0.705664</td>\n",
              "      <td>-0.495249</td>\n",
              "      <td>-0.769975</td>\n",
              "      <td>-0.632815</td>\n",
              "    </tr>\n",
              "    <tr>\n",
              "      <th>16</th>\n",
              "      <td>-0.640898</td>\n",
              "      <td>0.098758</td>\n",
              "      <td>-0.705664</td>\n",
              "      <td>0.071212</td>\n",
              "      <td>-0.722644</td>\n",
              "      <td>-0.632815</td>\n",
              "    </tr>\n",
              "    <tr>\n",
              "      <th>17</th>\n",
              "      <td>-0.640898</td>\n",
              "      <td>-0.736755</td>\n",
              "      <td>1.291498</td>\n",
              "      <td>-0.495249</td>\n",
              "      <td>-0.732110</td>\n",
              "      <td>2.118553</td>\n",
              "    </tr>\n",
              "    <tr>\n",
              "      <th>18</th>\n",
              "      <td>-0.486073</td>\n",
              "      <td>-1.020829</td>\n",
              "      <td>-1.371384</td>\n",
              "      <td>-0.171557</td>\n",
              "      <td>-0.448125</td>\n",
              "      <td>-0.632815</td>\n",
              "    </tr>\n",
              "    <tr>\n",
              "      <th>19</th>\n",
              "      <td>-0.447367</td>\n",
              "      <td>-0.486101</td>\n",
              "      <td>-0.039943</td>\n",
              "      <td>-0.495249</td>\n",
              "      <td>-0.330745</td>\n",
              "      <td>-0.632815</td>\n",
              "    </tr>\n",
              "    <tr>\n",
              "      <th>20</th>\n",
              "      <td>-0.428014</td>\n",
              "      <td>0.516514</td>\n",
              "      <td>0.625777</td>\n",
              "      <td>0.313982</td>\n",
              "      <td>-0.437523</td>\n",
              "      <td>-0.632815</td>\n",
              "    </tr>\n",
              "    <tr>\n",
              "      <th>21</th>\n",
              "      <td>-0.369954</td>\n",
              "      <td>-0.318999</td>\n",
              "      <td>-0.039943</td>\n",
              "      <td>-0.495249</td>\n",
              "      <td>-0.140664</td>\n",
              "      <td>-0.632815</td>\n",
              "    </tr>\n",
              "    <tr>\n",
              "      <th>22</th>\n",
              "      <td>-0.292542</td>\n",
              "      <td>0.015206</td>\n",
              "      <td>1.291498</td>\n",
              "      <td>-0.495249</td>\n",
              "      <td>-0.503408</td>\n",
              "      <td>-0.632815</td>\n",
              "    </tr>\n",
              "    <tr>\n",
              "      <th>23</th>\n",
              "      <td>-0.292542</td>\n",
              "      <td>0.516514</td>\n",
              "      <td>-0.705664</td>\n",
              "      <td>0.152135</td>\n",
              "      <td>-0.065692</td>\n",
              "      <td>-0.632815</td>\n",
              "    </tr>\n",
              "    <tr>\n",
              "      <th>24</th>\n",
              "      <td>-0.253836</td>\n",
              "      <td>-0.569652</td>\n",
              "      <td>-0.705664</td>\n",
              "      <td>-0.495249</td>\n",
              "      <td>-0.075158</td>\n",
              "      <td>-0.632815</td>\n",
              "    </tr>\n",
              "    <tr>\n",
              "      <th>25</th>\n",
              "      <td>-0.253836</td>\n",
              "      <td>0.516514</td>\n",
              "      <td>-0.039943</td>\n",
              "      <td>-0.495249</td>\n",
              "      <td>-0.128169</td>\n",
              "      <td>0.742869</td>\n",
              "    </tr>\n",
              "    <tr>\n",
              "      <th>26</th>\n",
              "      <td>-0.099011</td>\n",
              "      <td>-0.903857</td>\n",
              "      <td>-0.039943</td>\n",
              "      <td>-0.495249</td>\n",
              "      <td>0.211098</td>\n",
              "      <td>-0.632815</td>\n",
              "    </tr>\n",
              "    <tr>\n",
              "      <th>27</th>\n",
              "      <td>-0.060304</td>\n",
              "      <td>-0.736755</td>\n",
              "      <td>-0.039943</td>\n",
              "      <td>-0.495249</td>\n",
              "      <td>-0.243656</td>\n",
              "      <td>-0.632815</td>\n",
              "    </tr>\n",
              "    <tr>\n",
              "      <th>28</th>\n",
              "      <td>0.017108</td>\n",
              "      <td>-0.318999</td>\n",
              "      <td>-0.039943</td>\n",
              "      <td>-0.495249</td>\n",
              "      <td>-0.003594</td>\n",
              "      <td>-0.632815</td>\n",
              "    </tr>\n",
              "    <tr>\n",
              "      <th>29</th>\n",
              "      <td>0.055814</td>\n",
              "      <td>-0.569652</td>\n",
              "      <td>-0.039943</td>\n",
              "      <td>-0.495249</td>\n",
              "      <td>0.407616</td>\n",
              "      <td>-0.632815</td>\n",
              "    </tr>\n",
              "    <tr>\n",
              "      <th>30</th>\n",
              "      <td>0.133227</td>\n",
              "      <td>0.516514</td>\n",
              "      <td>1.291498</td>\n",
              "      <td>-0.495249</td>\n",
              "      <td>0.106592</td>\n",
              "      <td>2.118553</td>\n",
              "    </tr>\n",
              "    <tr>\n",
              "      <th>31</th>\n",
              "      <td>0.133227</td>\n",
              "      <td>1.769782</td>\n",
              "      <td>1.291498</td>\n",
              "      <td>0.071212</td>\n",
              "      <td>0.055475</td>\n",
              "      <td>0.742869</td>\n",
              "    </tr>\n",
              "    <tr>\n",
              "      <th>32</th>\n",
              "      <td>0.133227</td>\n",
              "      <td>-0.736755</td>\n",
              "      <td>-1.371384</td>\n",
              "      <td>-0.333403</td>\n",
              "      <td>-0.166033</td>\n",
              "      <td>-0.632815</td>\n",
              "    </tr>\n",
              "    <tr>\n",
              "      <th>33</th>\n",
              "      <td>0.133227</td>\n",
              "      <td>0.265860</td>\n",
              "      <td>-0.039943</td>\n",
              "      <td>-0.090634</td>\n",
              "      <td>0.379218</td>\n",
              "      <td>-0.632815</td>\n",
              "    </tr>\n",
              "    <tr>\n",
              "      <th>34</th>\n",
              "      <td>0.171933</td>\n",
              "      <td>0.516514</td>\n",
              "      <td>0.625777</td>\n",
              "      <td>0.071212</td>\n",
              "      <td>0.334916</td>\n",
              "      <td>-0.632815</td>\n",
              "    </tr>\n",
              "    <tr>\n",
              "      <th>35</th>\n",
              "      <td>0.210639</td>\n",
              "      <td>-0.318999</td>\n",
              "      <td>1.957218</td>\n",
              "      <td>-0.495249</td>\n",
              "      <td>-0.104693</td>\n",
              "      <td>3.494237</td>\n",
              "    </tr>\n",
              "    <tr>\n",
              "      <th>36</th>\n",
              "      <td>0.326758</td>\n",
              "      <td>0.098758</td>\n",
              "      <td>-0.039943</td>\n",
              "      <td>-0.495249</td>\n",
              "      <td>0.252371</td>\n",
              "      <td>-0.632815</td>\n",
              "    </tr>\n",
              "    <tr>\n",
              "      <th>37</th>\n",
              "      <td>0.346111</td>\n",
              "      <td>0.098758</td>\n",
              "      <td>-0.705664</td>\n",
              "      <td>-0.495249</td>\n",
              "      <td>0.289478</td>\n",
              "      <td>0.742869</td>\n",
              "    </tr>\n",
              "    <tr>\n",
              "      <th>38</th>\n",
              "      <td>0.520290</td>\n",
              "      <td>2.187538</td>\n",
              "      <td>1.291498</td>\n",
              "      <td>1.446905</td>\n",
              "      <td>0.348926</td>\n",
              "      <td>0.742869</td>\n",
              "    </tr>\n",
              "    <tr>\n",
              "      <th>39</th>\n",
              "      <td>0.713821</td>\n",
              "      <td>-0.736755</td>\n",
              "      <td>-0.705664</td>\n",
              "      <td>-0.495249</td>\n",
              "      <td>0.316741</td>\n",
              "      <td>-0.632815</td>\n",
              "    </tr>\n",
              "    <tr>\n",
              "      <th>40</th>\n",
              "      <td>0.713821</td>\n",
              "      <td>2.605295</td>\n",
              "      <td>1.291498</td>\n",
              "      <td>1.123213</td>\n",
              "      <td>0.316741</td>\n",
              "      <td>-0.632815</td>\n",
              "    </tr>\n",
              "    <tr>\n",
              "      <th>41</th>\n",
              "      <td>0.907352</td>\n",
              "      <td>0.098758</td>\n",
              "      <td>-0.039943</td>\n",
              "      <td>0.313982</td>\n",
              "      <td>0.496598</td>\n",
              "      <td>0.742869</td>\n",
              "    </tr>\n",
              "    <tr>\n",
              "      <th>42</th>\n",
              "      <td>1.100884</td>\n",
              "      <td>-0.820306</td>\n",
              "      <td>-1.371384</td>\n",
              "      <td>-0.495249</td>\n",
              "      <td>0.839273</td>\n",
              "      <td>-0.632815</td>\n",
              "    </tr>\n",
              "    <tr>\n",
              "      <th>43</th>\n",
              "      <td>1.487946</td>\n",
              "      <td>0.098758</td>\n",
              "      <td>-0.039943</td>\n",
              "      <td>-0.495249</td>\n",
              "      <td>1.846473</td>\n",
              "      <td>-0.632815</td>\n",
              "    </tr>\n",
              "    <tr>\n",
              "      <th>44</th>\n",
              "      <td>1.681478</td>\n",
              "      <td>0.516514</td>\n",
              "      <td>0.625777</td>\n",
              "      <td>-0.495249</td>\n",
              "      <td>2.058515</td>\n",
              "      <td>0.742869</td>\n",
              "    </tr>\n",
              "    <tr>\n",
              "      <th>45</th>\n",
              "      <td>1.875009</td>\n",
              "      <td>2.438192</td>\n",
              "      <td>1.957218</td>\n",
              "      <td>-0.495249</td>\n",
              "      <td>1.248211</td>\n",
              "      <td>2.118553</td>\n",
              "    </tr>\n",
              "    <tr>\n",
              "      <th>46</th>\n",
              "      <td>2.184659</td>\n",
              "      <td>0.516514</td>\n",
              "      <td>0.625777</td>\n",
              "      <td>-0.495249</td>\n",
              "      <td>2.090321</td>\n",
              "      <td>0.742869</td>\n",
              "    </tr>\n",
              "    <tr>\n",
              "      <th>47</th>\n",
              "      <td>2.262071</td>\n",
              "      <td>0.934270</td>\n",
              "      <td>1.291498</td>\n",
              "      <td>-0.495249</td>\n",
              "      <td>2.883964</td>\n",
              "      <td>2.118553</td>\n",
              "    </tr>\n",
              "    <tr>\n",
              "      <th>48</th>\n",
              "      <td>2.262071</td>\n",
              "      <td>2.605295</td>\n",
              "      <td>-0.039943</td>\n",
              "      <td>2.741675</td>\n",
              "      <td>1.710160</td>\n",
              "      <td>0.742869</td>\n",
              "    </tr>\n",
              "    <tr>\n",
              "      <th>49</th>\n",
              "      <td>2.262071</td>\n",
              "      <td>1.769782</td>\n",
              "      <td>1.291498</td>\n",
              "      <td>1.123213</td>\n",
              "      <td>2.618912</td>\n",
              "      <td>-0.632815</td>\n",
              "    </tr>\n",
              "  </tbody>\n",
              "</table>\n",
              "</div>"
            ],
            "text/plain": [
              "    Mthly_HH_Income  Mthly_HH_Expense  ...  Annual_HH_Income  No_of_Earning_Members\n",
              "0         -1.415024         -0.903857  ...         -1.343624              -0.632815\n",
              "1         -1.376317         -0.987408  ...         -1.294021              -0.632815\n",
              "2         -1.221492         -1.196287  ...         -1.190272              -0.632815\n",
              "3         -1.221492         -1.405165  ...         -1.239496              -0.632815\n",
              "4         -1.124727         -0.569652  ...         -1.082358              -0.632815\n",
              "5         -1.066667         -0.903857  ...         -0.925977              -0.632815\n",
              "6         -1.027961         -0.235447  ...         -1.017988              -0.632815\n",
              "7         -0.911842          0.098758  ...         -0.864636              -0.632815\n",
              "8         -0.873136         -0.820306  ...         -0.855549              -0.632815\n",
              "9         -0.834430         -0.820306  ...         -0.849490               0.742869\n",
              "10        -0.834430         -0.068345  ...         -0.667740               0.742869\n",
              "11        -0.757017          0.516514  ...         -0.663196              -0.632815\n",
              "12        -0.702828         -1.154511  ...         -0.624726              -0.632815\n",
              "13        -0.679605         -0.694979  ...         -0.546573               0.742869\n",
              "14        -0.679605         -0.736755  ...         -0.773761               0.742869\n",
              "15        -0.640898         -0.544587  ...         -0.769975              -0.632815\n",
              "16        -0.640898          0.098758  ...         -0.722644              -0.632815\n",
              "17        -0.640898         -0.736755  ...         -0.732110               2.118553\n",
              "18        -0.486073         -1.020829  ...         -0.448125              -0.632815\n",
              "19        -0.447367         -0.486101  ...         -0.330745              -0.632815\n",
              "20        -0.428014          0.516514  ...         -0.437523              -0.632815\n",
              "21        -0.369954         -0.318999  ...         -0.140664              -0.632815\n",
              "22        -0.292542          0.015206  ...         -0.503408              -0.632815\n",
              "23        -0.292542          0.516514  ...         -0.065692              -0.632815\n",
              "24        -0.253836         -0.569652  ...         -0.075158              -0.632815\n",
              "25        -0.253836          0.516514  ...         -0.128169               0.742869\n",
              "26        -0.099011         -0.903857  ...          0.211098              -0.632815\n",
              "27        -0.060304         -0.736755  ...         -0.243656              -0.632815\n",
              "28         0.017108         -0.318999  ...         -0.003594              -0.632815\n",
              "29         0.055814         -0.569652  ...          0.407616              -0.632815\n",
              "30         0.133227          0.516514  ...          0.106592               2.118553\n",
              "31         0.133227          1.769782  ...          0.055475               0.742869\n",
              "32         0.133227         -0.736755  ...         -0.166033              -0.632815\n",
              "33         0.133227          0.265860  ...          0.379218              -0.632815\n",
              "34         0.171933          0.516514  ...          0.334916              -0.632815\n",
              "35         0.210639         -0.318999  ...         -0.104693               3.494237\n",
              "36         0.326758          0.098758  ...          0.252371              -0.632815\n",
              "37         0.346111          0.098758  ...          0.289478               0.742869\n",
              "38         0.520290          2.187538  ...          0.348926               0.742869\n",
              "39         0.713821         -0.736755  ...          0.316741              -0.632815\n",
              "40         0.713821          2.605295  ...          0.316741              -0.632815\n",
              "41         0.907352          0.098758  ...          0.496598               0.742869\n",
              "42         1.100884         -0.820306  ...          0.839273              -0.632815\n",
              "43         1.487946          0.098758  ...          1.846473              -0.632815\n",
              "44         1.681478          0.516514  ...          2.058515               0.742869\n",
              "45         1.875009          2.438192  ...          1.248211               2.118553\n",
              "46         2.184659          0.516514  ...          2.090321               0.742869\n",
              "47         2.262071          0.934270  ...          2.883964               2.118553\n",
              "48         2.262071          2.605295  ...          1.710160               0.742869\n",
              "49         2.262071          1.769782  ...          2.618912              -0.632815\n",
              "\n",
              "[50 rows x 6 columns]"
            ]
          },
          "metadata": {
            "tags": []
          },
          "execution_count": 157
        }
      ]
    },
    {
      "cell_type": "markdown",
      "metadata": {
        "id": "EkbYcbGJ0ddc"
      },
      "source": [
        "Compute mode using your own function for the first two columns and verify using inbuilt Python function"
      ]
    },
    {
      "cell_type": "code",
      "metadata": {
        "id": "JAOXOaQw0djV"
      },
      "source": [
        "def my_mode(column_name):\r\n",
        "    mm1=set(column_name)\r\n",
        "    mm2=[]\r\n",
        "    mm3=[]\r\n",
        "    for i in mm1:\r\n",
        "        f=0\r\n",
        "        for j in column_name:\r\n",
        "            if i==j:\r\n",
        "                f+=1\r\n",
        "            pass\r\n",
        "        mm3.append(f)\r\n",
        "        mm2.append(i)\r\n",
        "    for j in range(len(mm2)):\r\n",
        "        if mm3[j]==max(mm3):\r\n",
        "            print(\"mode:\", mm2[j]) \r\n",
        "            print(\"frequency:\" ,max(mm3))"
      ],
      "execution_count": 158,
      "outputs": []
    },
    {
      "cell_type": "code",
      "metadata": {
        "colab": {
          "base_uri": "https://localhost:8080/"
        },
        "id": "L3O-TtKpSbku",
        "outputId": "0922b002-dfbb-4765-f603-13220ccef873"
      },
      "source": [
        "print(\"Mode using my own function for Column 1:\")\r\n",
        "print(my_mode(column_1))\r\n",
        "print(\"Mode using my own function for Column 2:\")\r\n",
        "print(my_mode(column_2))\r\n",
        "print(\"__________________________________________\")\r\n",
        "print(\"Mode using inbuilt function for Column 1:\")\r\n",
        "print(stats.mode(column_1))\r\n",
        "print(\"Mode using inbuilt function for Column 2:\")\r\n",
        "print(stats.mode(column_2))"
      ],
      "execution_count": 63,
      "outputs": [
        {
          "output_type": "stream",
          "text": [
            "Mode using my own function for Column 1:\n",
            "mode: 45000\n",
            "frequency: 4\n",
            "None\n",
            "Mode using my own function for Column 2:\n",
            "mode: 25000\n",
            "frequency: 8\n",
            "None\n",
            "__________________________________________\n",
            "Mode using inbuilt function for Column 1:\n",
            "ModeResult(mode=array([45000]), count=array([4]))\n",
            "Mode using inbuilt function for Column 2:\n",
            "ModeResult(mode=array([25000]), count=array([8]))\n"
          ],
          "name": "stdout"
        }
      ]
    },
    {
      "cell_type": "markdown",
      "metadata": {
        "id": "HGPGOGDo04O1"
      },
      "source": [
        "Comment if the data for the first two cols is bi-modal, multi-modal or single modal"
      ]
    },
    {
      "cell_type": "markdown",
      "metadata": {
        "id": "uG-f947kaCEO"
      },
      "source": [
        "### Both first and second column are SINGLE MODAL\r\n",
        "### as Column 1 and column 2 have single modes as\r\n",
        "### 4500 and 2500. Thus we can say its a Single \r\n",
        "### modal column."
      ]
    }
  ]
}